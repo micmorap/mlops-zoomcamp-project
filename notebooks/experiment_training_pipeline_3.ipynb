{
 "cells": [
  {
   "cell_type": "code",
   "execution_count": 1,
   "id": "1d5423ac",
   "metadata": {},
   "outputs": [],
   "source": [
    "import os\n",
    "import sys\n",
    "\n",
    "# Agrega el directorio base de tu proyecto al path\n",
    "project_dir = os.path.abspath('..')  # asumiendo que el notebook está en el directorio notebooks\n",
    "if project_dir not in sys.path:\n",
    "    sys.path.append(project_dir)"
   ]
  },
  {
   "cell_type": "code",
   "execution_count": 2,
   "id": "cc7ed0c0",
   "metadata": {},
   "outputs": [],
   "source": [
    "# Ruta absoluta al directorio raíz del proyecto\n",
    "project_root = os.path.abspath(os.path.join(os.getcwd(), \"..\"))"
   ]
  },
  {
   "cell_type": "code",
   "execution_count": 3,
   "id": "2e174cba",
   "metadata": {},
   "outputs": [],
   "source": [
    "# training.py\n",
    "import os\n",
    "import pandas as pd\n",
    "import numpy as np\n",
    "from sklearn.model_selection import train_test_split\n",
    "from xgboost import XGBRegressor\n",
    "from sklearn.metrics import mean_squared_error\n",
    "from scripts.preprocessing_pipeline import run_data_pipeline\n",
    "import logging\n",
    "from sklearn.preprocessing import StandardScaler\n",
    "import mlflow\n",
    "import mlflow.xgboost\n",
    "import sys\n",
    "from hyperopt import hp, fmin, tpe, Trials\n",
    "from mlflow import log_metric, log_params"
   ]
  },
  {
   "cell_type": "code",
   "execution_count": 4,
   "id": "2907ee66",
   "metadata": {},
   "outputs": [],
   "source": [
    "logging.basicConfig(level=logging.INFO, format='%(asctime)s - %(levelname)s - %(message)s')\n",
    "DATA_COMPANY = \"historical_info_ISA_Interconnection_Electric.csv\"\n",
    "DATA_FOLDER = \"../data/\"\n",
    "FINAL_FILES_PATH = os.path.join(DATA_FOLDER, DATA_COMPANY)\n",
    "PROFILING_REPORTS_PATH = \"../profiling_reports/\""
   ]
  },
  {
   "cell_type": "code",
   "execution_count": 5,
   "id": "ad521f4a",
   "metadata": {},
   "outputs": [],
   "source": [
    "# Verifica y crea el directorio si no existe\n",
    "if not os.path.exists(PROFILING_REPORTS_PATH):\n",
    "    os.makedirs(PROFILING_REPORTS_PATH)"
   ]
  },
  {
   "cell_type": "code",
   "execution_count": 6,
   "id": "4cf51948",
   "metadata": {},
   "outputs": [],
   "source": [
    "mlflow.set_tracking_uri(f\"sqlite:///mlflow.db\")\n"
   ]
  },
  {
   "cell_type": "code",
   "execution_count": 7,
   "id": "f2f84188",
   "metadata": {},
   "outputs": [
    {
     "name": "stderr",
     "output_type": "stream",
     "text": [
      "2024-07-12 17:26:34,232 - INFO - Context impl SQLiteImpl.\n",
      "2024-07-12 17:26:34,232 - INFO - Will assume non-transactional DDL.\n"
     ]
    },
    {
     "data": {
      "text/plain": [
       "<Experiment: artifact_location='/home/mlops_zoomcamp/mlops-zoomcamp-project/notebooks/mlruns/1', creation_time=1720802193984, experiment_id='1', last_update_time=1720802193984, lifecycle_stage='active', name='mlops-final-project-michaelmora-case-1', tags={}>"
      ]
     },
     "execution_count": 7,
     "metadata": {},
     "output_type": "execute_result"
    }
   ],
   "source": [
    "mlflow.set_experiment(\"mlops-final-project-michaelmora-case-1\")"
   ]
  },
  {
   "cell_type": "code",
   "execution_count": 8,
   "id": "0086547a",
   "metadata": {},
   "outputs": [],
   "source": [
    "def load_and_preprocess_data(path_file: str) -> pd.DataFrame:    \n",
    "    \"\"\"\n",
    "    Load and preprocess the dataset.\n",
    "\n",
    "    Parameters:\n",
    "    path_file (str): Path to the dataset file.\n",
    "\n",
    "    Returns:\n",
    "    pd.DataFrame: Preprocessed dataset.\n",
    "    \"\"\"\n",
    "    logging.info(f'Leyendo archivo: {DATA_COMPANY}') \n",
    "\n",
    "    data_transformed = run_data_pipeline(path_file)\n",
    "    return data_transformed\n",
    "\n"
   ]
  },
  {
   "cell_type": "code",
   "execution_count": 9,
   "id": "6376c081",
   "metadata": {},
   "outputs": [],
   "source": [
    "def split_data(dataset: pd.DataFrame, target_column: str):\n",
    "    \"\"\"\n",
    "    Split the dataset into training, validation, and test sets.\n",
    "\n",
    "    Parameters:\n",
    "    dataset (pd.DataFrame): The preprocessed dataset.\n",
    "    target_column (str): The name of the target column.\n",
    "\n",
    "    Returns:\n",
    "    Tuple containing train, validation, and test sets.\n",
    "    \"\"\"\n",
    "    logging.info(\"Training, testing and validation sets preparing!\")    \n",
    "\n",
    "    X = dataset[['Apertura', 'Máximo', 'Mínimo', 'Vol.', '% var.']]\n",
    "    y = dataset[target_column]\n",
    "\n",
    "    scaler = StandardScaler()\n",
    "    X_scaled = scaler.fit_transform(X)\n",
    "\n",
    "    X_train, X_temp, y_train, y_temp = train_test_split(X_scaled, y, test_size=0.4, random_state=42)\n",
    "    X_val, X_test, y_val, y_test = train_test_split(X_temp, y_temp, test_size=0.5, random_state=42)\n",
    "\n",
    "    logging.info(\"Training, testing and validation sets partition has finished!\")    \n",
    "\n",
    "    return X_train, X_val, X_test, y_train, y_val, y_test\n",
    "\n"
   ]
  },
  {
   "cell_type": "code",
   "execution_count": 10,
   "id": "4abcda05",
   "metadata": {},
   "outputs": [],
   "source": [
    "def train_xgboost_model(X_train, y_train, X_val, y_val):\n",
    "    \"\"\"\n",
    "    Train an XGBoost model.\n",
    "\n",
    "    Parameters:\n",
    "    X_train (pd.DataFrame): Training features.\n",
    "    y_train (pd.Series): Training labels.\n",
    "    X_val (pd.DataFrame): Validation features.\n",
    "    y_val (pd.Series): Validation labels.\n",
    "\n",
    "    Returns:\n",
    "    XGBRegressor: The trained XGBoost model.\n",
    "    \"\"\"\n",
    "    logging.info(\"Training XGBoost model has started!\")  \n",
    "    \n",
    "    with mlflow.start_run():\n",
    "        # Definir el modelo\n",
    "        model = XGBRegressor(\n",
    "            objective='reg:squarederror',\n",
    "            n_estimators=50,\n",
    "            max_depth=2,\n",
    "            learning_rate=0.01,\n",
    "            subsample=0.8,\n",
    "            colsample_bytree=0.8,\n",
    "            reg_alpha=0.01,\n",
    "            reg_lambda=1\n",
    "            )    \n",
    "    \n",
    "    \n",
    "        model.fit(X_train, y_train, eval_set=[(X_val, y_val)], early_stopping_rounds=10, verbose=False)\n",
    "\n",
    "        # Registrar parámetros y métricas en MLflow\n",
    "        mlflow.xgboost.log_model(model, \"model\")\n",
    "        mlflow.log_params(model.get_params())\n",
    "\n",
    "        # Evaluar el modelo\n",
    "        y_pred = model.predict(X_val)\n",
    "        mse = mean_squared_error(y_val, y_pred)\n",
    "        mlflow.log_metric(\"mse\", mse)\n",
    "\n",
    "        logging.info(f\"Mean Squared Error: {mse}\")\n",
    "        \n",
    "    return model\n",
    "    "
   ]
  },
  {
   "cell_type": "code",
   "execution_count": 11,
   "id": "aebee5c5",
   "metadata": {},
   "outputs": [],
   "source": [
    "def evaluate_model(model, X_test, y_test):\n",
    "    \"\"\"\n",
    "    Evaluate the model on the test set.\n",
    "\n",
    "    Parameters:\n",
    "    model (XGBRegressor): The trained model.\n",
    "    X_test (pd.DataFrame): Test features.\n",
    "    y_test (pd.Series): Test labels.\n",
    "\n",
    "    Returns:\n",
    "    float: Mean Squared Error of the model on the test set.\n",
    "    \"\"\"\n",
    "    logging.info(\"Training XGBoost Evaluation model has started!\")    \n",
    "\n",
    "    y_pred = model.predict(X_test)\n",
    "    mse = mean_squared_error(y_test, y_pred)\n",
    "    return mse\n",
    "\n"
   ]
  },
  {
   "cell_type": "code",
   "execution_count": 12,
   "id": "d9116b18",
   "metadata": {},
   "outputs": [],
   "source": [
    "def objective(params):\n",
    "    with mlflow.start_run():\n",
    "        # Log the hyperparameters\n",
    "        log_params(params)\n",
    "\n",
    "        dataset = load_and_preprocess_data(FINAL_FILES_PATH)\n",
    "        target_column = 'Último'\n",
    "        \n",
    "        X_train, X_val, X_test, y_train, y_val, y_test = split_data(dataset, target_column)\n",
    "\n",
    "\n",
    "        # Create and train the model\n",
    "        model = XGBRegressor(**params)\n",
    "        model.fit(X_train, y_train, eval_set=[(X_val, y_val)], early_stopping_rounds=10, verbose=False)\n",
    "\n",
    "        # Evaluate the model on the validation set\n",
    "        y_pred = model.predict(X_val)\n",
    "        mse = mean_squared_error(y_val, y_pred)\n",
    "\n",
    "        # Log the metric\n",
    "        log_metric(\"mse\", mse)\n",
    "\n",
    "        return mse\n"
   ]
  },
  {
   "cell_type": "code",
   "execution_count": 13,
   "id": "7e750c92",
   "metadata": {},
   "outputs": [],
   "source": [
    "space = {\n",
    "    'n_estimators': hp.choice('n_estimators', np.arange(100, 1000, 100, dtype=int)),\n",
    "    'max_depth': hp.choice('max_depth', np.arange(3, 10, dtype=int)),\n",
    "    'learning_rate': hp.uniform('learning_rate', 0.01, 0.2),\n",
    "    'subsample': hp.uniform('subsample', 0.6, 1.0),\n",
    "    'colsample_bytree': hp.uniform('colsample_bytree', 0.6, 1.0),\n",
    "    'reg_alpha': hp.loguniform('reg_alpha', np.log(0.001), np.log(1.0)),\n",
    "    'reg_lambda': hp.uniform('reg_lambda', 0.0, 1.0)\n",
    "}\n"
   ]
  },
  {
   "cell_type": "code",
   "execution_count": 14,
   "id": "904e7add",
   "metadata": {},
   "outputs": [],
   "source": [
    "def main():\n",
    "    \"\"\"\n",
    "    Main function to run the training pipeline.\n",
    "    \"\"\"\n",
    "    trials = Trials()\n",
    "\n",
    "    # Ejecutar la optimización\n",
    "    best = fmin(fn=objective,\n",
    "                space=space,\n",
    "                algo=tpe.suggest,\n",
    "                max_evals=50,  # Número de evaluaciones\n",
    "                trials=trials)\n",
    "\n",
    "    # Mejores hiperparámetros encontrados\n",
    "    print(\"Mejores hiperparámetros encontrados:\")\n",
    "    print(best)\n",
    "\n"
   ]
  },
  {
   "cell_type": "code",
   "execution_count": 15,
   "id": "41ac17ca",
   "metadata": {},
   "outputs": [
    {
     "name": "stdout",
     "output_type": "stream",
     "text": [
      "  0%|          | 0/50 [00:00<?, ?trial/s, best loss=?]"
     ]
    },
    {
     "name": "stderr",
     "output_type": "stream",
     "text": [
      "2024-07-12 17:26:34,311 - INFO - build_posterior_wrapper took 0.003865 seconds\n",
      "2024-07-12 17:26:34,311 - INFO - TPE using 0 trials\n",
      "2024-07-12 17:26:34,447 - INFO - Leyendo archivo: historical_info_ISA_Interconnection_Electric.csv\n",
      "2024-07-12 17:26:34,448 - INFO - Iniciando el proceso de lectura de datos...\n",
      "2024-07-12 17:26:34,452 - INFO - Proceso de lectura de datos completado.\n",
      "2024-07-12 17:26:34,453 - INFO - Generando reporte de EDA...\n"
     ]
    },
    {
     "data": {
      "application/vnd.jupyter.widget-view+json": {
       "model_id": "695345cf3ddf4540b3287001bfa7962b",
       "version_major": 2,
       "version_minor": 0
      },
      "text/plain": [
       "Summarize dataset:   0%|          | 0/5 [00:00<?, ?it/s]"
      ]
     },
     "metadata": {},
     "output_type": "display_data"
    },
    {
     "data": {
      "application/vnd.jupyter.widget-view+json": {
       "model_id": "4a1e647db9b8404c8699c17a1588ed68",
       "version_major": 2,
       "version_minor": 0
      },
      "text/plain": [
       "Generate report structure:   0%|          | 0/1 [00:00<?, ?it/s]"
      ]
     },
     "metadata": {},
     "output_type": "display_data"
    },
    {
     "data": {
      "application/vnd.jupyter.widget-view+json": {
       "model_id": "05be7f63b30148babfc87d70a56dda5e",
       "version_major": 2,
       "version_minor": 0
      },
      "text/plain": [
       "Render HTML:   0%|          | 0/1 [00:00<?, ?it/s]"
      ]
     },
     "metadata": {},
     "output_type": "display_data"
    },
    {
     "data": {
      "application/vnd.jupyter.widget-view+json": {
       "model_id": "31b28ec69c3c429397f0e94bb5ac1f01",
       "version_major": 2,
       "version_minor": 0
      },
      "text/plain": [
       "Export report to file:   0%|          | 0/1 [00:00<?, ?it/s]"
      ]
     },
     "metadata": {},
     "output_type": "display_data"
    },
    {
     "name": "stderr",
     "output_type": "stream",
     "text": [
      "2024-07-12 17:26:40,145 - INFO - Reporte de EDA generado.\n",
      "2024-07-12 17:26:40,146 - INFO - Transformando tipos de columnas...\n",
      "2024-07-12 17:26:40,152 - INFO - Transformación de tipos de columnas completada.\n",
      "2024-07-12 17:26:40,153 - INFO - Training, testing and validation sets preparing!\n",
      "2024-07-12 17:26:40,158 - INFO - Training, testing and validation sets partition has finished!\n",
      "/home/mlops_zoomcamp/anaconda3/envs/mlops-final-project/lib/python3.9/site-packages/xgboost/sklearn.py:889: UserWarning: `early_stopping_rounds` in `fit` method is deprecated for better compatibility with scikit-learn, use `early_stopping_rounds` in constructor or`set_params` instead.\n",
      "  warnings.warn(\n",
      "\n"
     ]
    },
    {
     "name": "stdout",
     "output_type": "stream",
     "text": [
      "  2%|▏         | 1/50 [00:06<04:58,  6.10s/trial, best loss: 41048.438248103426]"
     ]
    },
    {
     "name": "stderr",
     "output_type": "stream",
     "text": [
      "2024-07-12 17:26:40,410 - INFO - build_posterior_wrapper took 0.002780 seconds\n",
      "2024-07-12 17:26:40,411 - INFO - TPE using 1/1 trials with best loss 41048.438248\n",
      "2024-07-12 17:26:40,437 - INFO - Leyendo archivo: historical_info_ISA_Interconnection_Electric.csv\n",
      "2024-07-12 17:26:40,438 - INFO - Iniciando el proceso de lectura de datos...\n",
      "2024-07-12 17:26:40,441 - INFO - Proceso de lectura de datos completado.\n",
      "2024-07-12 17:26:40,442 - INFO - Generando reporte de EDA...\n"
     ]
    },
    {
     "data": {
      "application/vnd.jupyter.widget-view+json": {
       "model_id": "907bf6c40b8e4d55b552ff4887f0c818",
       "version_major": 2,
       "version_minor": 0
      },
      "text/plain": [
       "Summarize dataset:   0%|          | 0/5 [00:00<?, ?it/s]"
      ]
     },
     "metadata": {},
     "output_type": "display_data"
    },
    {
     "data": {
      "application/vnd.jupyter.widget-view+json": {
       "model_id": "379f0565832c4fbcaf7c42f545e78e17",
       "version_major": 2,
       "version_minor": 0
      },
      "text/plain": [
       "Generate report structure:   0%|          | 0/1 [00:00<?, ?it/s]"
      ]
     },
     "metadata": {},
     "output_type": "display_data"
    },
    {
     "data": {
      "application/vnd.jupyter.widget-view+json": {
       "model_id": "46d89fb5117c4b65bc0240f8f47f1b02",
       "version_major": 2,
       "version_minor": 0
      },
      "text/plain": [
       "Render HTML:   0%|          | 0/1 [00:00<?, ?it/s]"
      ]
     },
     "metadata": {},
     "output_type": "display_data"
    },
    {
     "data": {
      "application/vnd.jupyter.widget-view+json": {
       "model_id": "0856392d5eaa4ca4a1e432d9ca6803d0",
       "version_major": 2,
       "version_minor": 0
      },
      "text/plain": [
       "Export report to file:   0%|          | 0/1 [00:00<?, ?it/s]"
      ]
     },
     "metadata": {},
     "output_type": "display_data"
    },
    {
     "name": "stderr",
     "output_type": "stream",
     "text": [
      "2024-07-12 17:26:45,959 - INFO - Reporte de EDA generado.\n",
      "2024-07-12 17:26:45,960 - INFO - Transformando tipos de columnas...\n",
      "2024-07-12 17:26:45,965 - INFO - Transformación de tipos de columnas completada.\n",
      "2024-07-12 17:26:45,967 - INFO - Training, testing and validation sets preparing!\n",
      "2024-07-12 17:26:45,972 - INFO - Training, testing and validation sets partition has finished!\n"
     ]
    },
    {
     "name": "stdout",
     "output_type": "stream",
     "text": [
      "  4%|▍         | 2/50 [00:11<04:39,  5.82s/trial, best loss: 37836.06093667217] "
     ]
    },
    {
     "name": "stderr",
     "output_type": "stream",
     "text": [
      "/home/mlops_zoomcamp/anaconda3/envs/mlops-final-project/lib/python3.9/site-packages/xgboost/sklearn.py:889: UserWarning: `early_stopping_rounds` in `fit` method is deprecated for better compatibility with scikit-learn, use `early_stopping_rounds` in constructor or`set_params` instead.\n",
      "  warnings.warn(\n",
      "\n",
      "2024-07-12 17:26:46,030 - INFO - build_posterior_wrapper took 0.003444 seconds\n",
      "2024-07-12 17:26:46,031 - INFO - TPE using 2/2 trials with best loss 37836.060937\n",
      "2024-07-12 17:26:46,055 - INFO - Leyendo archivo: historical_info_ISA_Interconnection_Electric.csv\n",
      "2024-07-12 17:26:46,056 - INFO - Iniciando el proceso de lectura de datos...\n",
      "2024-07-12 17:26:46,059 - INFO - Proceso de lectura de datos completado.\n",
      "2024-07-12 17:26:46,060 - INFO - Generando reporte de EDA...\n"
     ]
    },
    {
     "data": {
      "application/vnd.jupyter.widget-view+json": {
       "model_id": "72612e83774d464a98350314974fce83",
       "version_major": 2,
       "version_minor": 0
      },
      "text/plain": [
       "Summarize dataset:   0%|          | 0/5 [00:00<?, ?it/s]"
      ]
     },
     "metadata": {},
     "output_type": "display_data"
    },
    {
     "data": {
      "application/vnd.jupyter.widget-view+json": {
       "model_id": "24b72cc8430e4cfbbfdfec8ff082acaa",
       "version_major": 2,
       "version_minor": 0
      },
      "text/plain": [
       "Generate report structure:   0%|          | 0/1 [00:00<?, ?it/s]"
      ]
     },
     "metadata": {},
     "output_type": "display_data"
    },
    {
     "data": {
      "application/vnd.jupyter.widget-view+json": {
       "model_id": "87aa10fa5b09413bbb811bbfb2fbdb98",
       "version_major": 2,
       "version_minor": 0
      },
      "text/plain": [
       "Render HTML:   0%|          | 0/1 [00:00<?, ?it/s]"
      ]
     },
     "metadata": {},
     "output_type": "display_data"
    },
    {
     "data": {
      "application/vnd.jupyter.widget-view+json": {
       "model_id": "737acad4f86b4486a1c3f46a450c5f39",
       "version_major": 2,
       "version_minor": 0
      },
      "text/plain": [
       "Export report to file:   0%|          | 0/1 [00:00<?, ?it/s]"
      ]
     },
     "metadata": {},
     "output_type": "display_data"
    },
    {
     "name": "stderr",
     "output_type": "stream",
     "text": [
      "2024-07-12 17:26:51,386 - INFO - Reporte de EDA generado.\n",
      "2024-07-12 17:26:51,387 - INFO - Transformando tipos de columnas...\n",
      "2024-07-12 17:26:51,395 - INFO - Transformación de tipos de columnas completada.\n",
      "2024-07-12 17:26:51,398 - INFO - Training, testing and validation sets preparing!\n",
      "2024-07-12 17:26:51,405 - INFO - Training, testing and validation sets partition has finished!\n",
      "/home/mlops_zoomcamp/anaconda3/envs/mlops-final-project/lib/python3.9/site-packages/xgboost/sklearn.py:889: UserWarning: `early_stopping_rounds` in `fit` method is deprecated for better compatibility with scikit-learn, use `early_stopping_rounds` in constructor or`set_params` instead.\n",
      "  warnings.warn(\n",
      "\n"
     ]
    },
    {
     "name": "stdout",
     "output_type": "stream",
     "text": [
      "  6%|▌         | 3/50 [00:17<04:27,  5.70s/trial, best loss: 37836.06093667217]"
     ]
    },
    {
     "name": "stderr",
     "output_type": "stream",
     "text": [
      "2024-07-12 17:26:51,593 - INFO - build_posterior_wrapper took 0.003198 seconds\n",
      "2024-07-12 17:26:51,595 - INFO - TPE using 3/3 trials with best loss 37836.060937\n",
      "2024-07-12 17:26:51,623 - INFO - Leyendo archivo: historical_info_ISA_Interconnection_Electric.csv\n",
      "2024-07-12 17:26:51,625 - INFO - Iniciando el proceso de lectura de datos...\n",
      "2024-07-12 17:26:51,629 - INFO - Proceso de lectura de datos completado.\n",
      "2024-07-12 17:26:51,630 - INFO - Generando reporte de EDA...\n"
     ]
    },
    {
     "data": {
      "application/vnd.jupyter.widget-view+json": {
       "model_id": "512424e36f69470fa643b60f4fdd5463",
       "version_major": 2,
       "version_minor": 0
      },
      "text/plain": [
       "Summarize dataset:   0%|          | 0/5 [00:00<?, ?it/s]"
      ]
     },
     "metadata": {},
     "output_type": "display_data"
    },
    {
     "data": {
      "application/vnd.jupyter.widget-view+json": {
       "model_id": "e0b9a42c5c15491397ef81029dcc5fb9",
       "version_major": 2,
       "version_minor": 0
      },
      "text/plain": [
       "Generate report structure:   0%|          | 0/1 [00:00<?, ?it/s]"
      ]
     },
     "metadata": {},
     "output_type": "display_data"
    },
    {
     "data": {
      "application/vnd.jupyter.widget-view+json": {
       "model_id": "b8820daff6954f45986fed5e04f04f26",
       "version_major": 2,
       "version_minor": 0
      },
      "text/plain": [
       "Render HTML:   0%|          | 0/1 [00:00<?, ?it/s]"
      ]
     },
     "metadata": {},
     "output_type": "display_data"
    },
    {
     "data": {
      "application/vnd.jupyter.widget-view+json": {
       "model_id": "f5d6c5bc952e4a2b8e1783c659d97492",
       "version_major": 2,
       "version_minor": 0
      },
      "text/plain": [
       "Export report to file:   0%|          | 0/1 [00:00<?, ?it/s]"
      ]
     },
     "metadata": {},
     "output_type": "display_data"
    },
    {
     "name": "stderr",
     "output_type": "stream",
     "text": [
      "2024-07-12 17:26:57,194 - INFO - Reporte de EDA generado.\n",
      "2024-07-12 17:26:57,194 - INFO - Transformando tipos de columnas...\n",
      "2024-07-12 17:26:57,200 - INFO - Transformación de tipos de columnas completada.\n",
      "2024-07-12 17:26:57,201 - INFO - Training, testing and validation sets preparing!\n",
      "2024-07-12 17:26:57,206 - INFO - Training, testing and validation sets partition has finished!\n",
      "/home/mlops_zoomcamp/anaconda3/envs/mlops-final-project/lib/python3.9/site-packages/xgboost/sklearn.py:889: UserWarning: `early_stopping_rounds` in `fit` method is deprecated for better compatibility with scikit-learn, use `early_stopping_rounds` in constructor or`set_params` instead.\n",
      "  warnings.warn(\n",
      "\n"
     ]
    },
    {
     "name": "stdout",
     "output_type": "stream",
     "text": [
      "  8%|▊         | 4/50 [00:23<04:26,  5.80s/trial, best loss: 37836.06093667217]"
     ]
    },
    {
     "name": "stderr",
     "output_type": "stream",
     "text": [
      "2024-07-12 17:26:57,554 - INFO - build_posterior_wrapper took 0.003153 seconds\n",
      "2024-07-12 17:26:57,555 - INFO - TPE using 4/4 trials with best loss 37836.060937\n",
      "2024-07-12 17:26:57,580 - INFO - Leyendo archivo: historical_info_ISA_Interconnection_Electric.csv\n",
      "2024-07-12 17:26:57,581 - INFO - Iniciando el proceso de lectura de datos...\n",
      "2024-07-12 17:26:57,584 - INFO - Proceso de lectura de datos completado.\n",
      "2024-07-12 17:26:57,585 - INFO - Generando reporte de EDA...\n"
     ]
    },
    {
     "data": {
      "application/vnd.jupyter.widget-view+json": {
       "model_id": "75a93221506345d09d3836afc69cefd4",
       "version_major": 2,
       "version_minor": 0
      },
      "text/plain": [
       "Summarize dataset:   0%|          | 0/5 [00:00<?, ?it/s]"
      ]
     },
     "metadata": {},
     "output_type": "display_data"
    },
    {
     "data": {
      "application/vnd.jupyter.widget-view+json": {
       "model_id": "a3c2d924fdb24a369f01e3c2274e0876",
       "version_major": 2,
       "version_minor": 0
      },
      "text/plain": [
       "Generate report structure:   0%|          | 0/1 [00:00<?, ?it/s]"
      ]
     },
     "metadata": {},
     "output_type": "display_data"
    },
    {
     "data": {
      "application/vnd.jupyter.widget-view+json": {
       "model_id": "9a20aac2d93f4af78b27d443f16f23f6",
       "version_major": 2,
       "version_minor": 0
      },
      "text/plain": [
       "Render HTML:   0%|          | 0/1 [00:00<?, ?it/s]"
      ]
     },
     "metadata": {},
     "output_type": "display_data"
    },
    {
     "data": {
      "application/vnd.jupyter.widget-view+json": {
       "model_id": "5229bb4f95e14c12a938bd6e57b421c6",
       "version_major": 2,
       "version_minor": 0
      },
      "text/plain": [
       "Export report to file:   0%|          | 0/1 [00:00<?, ?it/s]"
      ]
     },
     "metadata": {},
     "output_type": "display_data"
    },
    {
     "name": "stderr",
     "output_type": "stream",
     "text": [
      "2024-07-12 17:27:02,939 - INFO - Reporte de EDA generado.\n",
      "2024-07-12 17:27:02,940 - INFO - Transformando tipos de columnas...\n",
      "2024-07-12 17:27:02,946 - INFO - Transformación de tipos de columnas completada.\n",
      "2024-07-12 17:27:02,948 - INFO - Training, testing and validation sets preparing!\n",
      "2024-07-12 17:27:02,954 - INFO - Training, testing and validation sets partition has finished!\n"
     ]
    },
    {
     "name": "stdout",
     "output_type": "stream",
     "text": [
      " 10%|█         | 5/50 [00:28<04:15,  5.68s/trial, best loss: 37836.06093667217]"
     ]
    },
    {
     "name": "stderr",
     "output_type": "stream",
     "text": [
      "/home/mlops_zoomcamp/anaconda3/envs/mlops-final-project/lib/python3.9/site-packages/xgboost/sklearn.py:889: UserWarning: `early_stopping_rounds` in `fit` method is deprecated for better compatibility with scikit-learn, use `early_stopping_rounds` in constructor or`set_params` instead.\n",
      "  warnings.warn(\n",
      "\n",
      "2024-07-12 17:27:03,011 - INFO - build_posterior_wrapper took 0.003361 seconds\n",
      "2024-07-12 17:27:03,012 - INFO - TPE using 5/5 trials with best loss 37836.060937\n",
      "2024-07-12 17:27:03,035 - INFO - Leyendo archivo: historical_info_ISA_Interconnection_Electric.csv\n",
      "2024-07-12 17:27:03,036 - INFO - Iniciando el proceso de lectura de datos...\n",
      "2024-07-12 17:27:03,039 - INFO - Proceso de lectura de datos completado.\n",
      "2024-07-12 17:27:03,040 - INFO - Generando reporte de EDA...\n"
     ]
    },
    {
     "data": {
      "application/vnd.jupyter.widget-view+json": {
       "model_id": "8526db0249ad4b84b0aca6b2720ace44",
       "version_major": 2,
       "version_minor": 0
      },
      "text/plain": [
       "Summarize dataset:   0%|          | 0/5 [00:00<?, ?it/s]"
      ]
     },
     "metadata": {},
     "output_type": "display_data"
    },
    {
     "data": {
      "application/vnd.jupyter.widget-view+json": {
       "model_id": "54ce485eaa324e18aaa2f6ada6750e3c",
       "version_major": 2,
       "version_minor": 0
      },
      "text/plain": [
       "Generate report structure:   0%|          | 0/1 [00:00<?, ?it/s]"
      ]
     },
     "metadata": {},
     "output_type": "display_data"
    },
    {
     "data": {
      "application/vnd.jupyter.widget-view+json": {
       "model_id": "60e56c44a2f84e3caa4bdcab8a4bf4f5",
       "version_major": 2,
       "version_minor": 0
      },
      "text/plain": [
       "Render HTML:   0%|          | 0/1 [00:00<?, ?it/s]"
      ]
     },
     "metadata": {},
     "output_type": "display_data"
    },
    {
     "data": {
      "application/vnd.jupyter.widget-view+json": {
       "model_id": "88070d2441fe44a8bea4a092b307fd9c",
       "version_major": 2,
       "version_minor": 0
      },
      "text/plain": [
       "Export report to file:   0%|          | 0/1 [00:00<?, ?it/s]"
      ]
     },
     "metadata": {},
     "output_type": "display_data"
    },
    {
     "name": "stderr",
     "output_type": "stream",
     "text": [
      "2024-07-12 17:27:08,633 - INFO - Reporte de EDA generado.\n",
      "2024-07-12 17:27:08,634 - INFO - Transformando tipos de columnas...\n",
      "2024-07-12 17:27:08,639 - INFO - Transformación de tipos de columnas completada.\n",
      "2024-07-12 17:27:08,641 - INFO - Training, testing and validation sets preparing!\n",
      "2024-07-12 17:27:08,645 - INFO - Training, testing and validation sets partition has finished!\n"
     ]
    },
    {
     "name": "stdout",
     "output_type": "stream",
     "text": [
      " 12%|█▏        | 6/50 [00:34<04:10,  5.69s/trial, best loss: 37836.06093667217]"
     ]
    },
    {
     "name": "stderr",
     "output_type": "stream",
     "text": [
      "/home/mlops_zoomcamp/anaconda3/envs/mlops-final-project/lib/python3.9/site-packages/xgboost/sklearn.py:889: UserWarning: `early_stopping_rounds` in `fit` method is deprecated for better compatibility with scikit-learn, use `early_stopping_rounds` in constructor or`set_params` instead.\n",
      "  warnings.warn(\n",
      "\n",
      "2024-07-12 17:27:08,734 - INFO - build_posterior_wrapper took 0.003083 seconds\n",
      "2024-07-12 17:27:08,735 - INFO - TPE using 6/6 trials with best loss 37836.060937\n",
      "2024-07-12 17:27:08,757 - INFO - Leyendo archivo: historical_info_ISA_Interconnection_Electric.csv\n",
      "2024-07-12 17:27:08,758 - INFO - Iniciando el proceso de lectura de datos...\n",
      "2024-07-12 17:27:08,762 - INFO - Proceso de lectura de datos completado.\n",
      "2024-07-12 17:27:08,762 - INFO - Generando reporte de EDA...\n"
     ]
    },
    {
     "data": {
      "application/vnd.jupyter.widget-view+json": {
       "model_id": "1d86704f1f54460e8b464ec4fc887e62",
       "version_major": 2,
       "version_minor": 0
      },
      "text/plain": [
       "Summarize dataset:   0%|          | 0/5 [00:00<?, ?it/s]"
      ]
     },
     "metadata": {},
     "output_type": "display_data"
    },
    {
     "data": {
      "application/vnd.jupyter.widget-view+json": {
       "model_id": "392a577d98ad4ddaaf3621a4fbed1bf9",
       "version_major": 2,
       "version_minor": 0
      },
      "text/plain": [
       "Generate report structure:   0%|          | 0/1 [00:00<?, ?it/s]"
      ]
     },
     "metadata": {},
     "output_type": "display_data"
    },
    {
     "data": {
      "application/vnd.jupyter.widget-view+json": {
       "model_id": "7edecfcd5d36413daf180a24b9cfc0d7",
       "version_major": 2,
       "version_minor": 0
      },
      "text/plain": [
       "Render HTML:   0%|          | 0/1 [00:00<?, ?it/s]"
      ]
     },
     "metadata": {},
     "output_type": "display_data"
    },
    {
     "data": {
      "application/vnd.jupyter.widget-view+json": {
       "model_id": "355b88c79e2f4680ae2975aaf75bf34c",
       "version_major": 2,
       "version_minor": 0
      },
      "text/plain": [
       "Export report to file:   0%|          | 0/1 [00:00<?, ?it/s]"
      ]
     },
     "metadata": {},
     "output_type": "display_data"
    },
    {
     "name": "stderr",
     "output_type": "stream",
     "text": [
      "2024-07-12 17:27:14,169 - INFO - Reporte de EDA generado.\n",
      "2024-07-12 17:27:14,170 - INFO - Transformando tipos de columnas...\n",
      "2024-07-12 17:27:14,175 - INFO - Transformación de tipos de columnas completada.\n",
      "2024-07-12 17:27:14,177 - INFO - Training, testing and validation sets preparing!\n",
      "2024-07-12 17:27:14,183 - INFO - Training, testing and validation sets partition has finished!\n"
     ]
    },
    {
     "name": "stdout",
     "output_type": "stream",
     "text": [
      " 14%|█▍        | 7/50 [00:39<04:02,  5.64s/trial, best loss: 37836.06093667217]"
     ]
    },
    {
     "name": "stderr",
     "output_type": "stream",
     "text": [
      "/home/mlops_zoomcamp/anaconda3/envs/mlops-final-project/lib/python3.9/site-packages/xgboost/sklearn.py:889: UserWarning: `early_stopping_rounds` in `fit` method is deprecated for better compatibility with scikit-learn, use `early_stopping_rounds` in constructor or`set_params` instead.\n",
      "  warnings.warn(\n",
      "\n",
      "2024-07-12 17:27:14,256 - INFO - build_posterior_wrapper took 0.004199 seconds\n",
      "2024-07-12 17:27:14,257 - INFO - TPE using 7/7 trials with best loss 37836.060937\n",
      "2024-07-12 17:27:14,285 - INFO - Leyendo archivo: historical_info_ISA_Interconnection_Electric.csv\n",
      "2024-07-12 17:27:14,286 - INFO - Iniciando el proceso de lectura de datos...\n",
      "2024-07-12 17:27:14,290 - INFO - Proceso de lectura de datos completado.\n",
      "2024-07-12 17:27:14,291 - INFO - Generando reporte de EDA...\n"
     ]
    },
    {
     "data": {
      "application/vnd.jupyter.widget-view+json": {
       "model_id": "89d7b71e625f4b8188d6b822a69bacc1",
       "version_major": 2,
       "version_minor": 0
      },
      "text/plain": [
       "Summarize dataset:   0%|          | 0/5 [00:00<?, ?it/s]"
      ]
     },
     "metadata": {},
     "output_type": "display_data"
    },
    {
     "data": {
      "application/vnd.jupyter.widget-view+json": {
       "model_id": "dee361a2cb6b4e5e829f04c97f77d724",
       "version_major": 2,
       "version_minor": 0
      },
      "text/plain": [
       "Generate report structure:   0%|          | 0/1 [00:00<?, ?it/s]"
      ]
     },
     "metadata": {},
     "output_type": "display_data"
    },
    {
     "data": {
      "application/vnd.jupyter.widget-view+json": {
       "model_id": "a7163348b9604922b31b59a0a5c1d0dc",
       "version_major": 2,
       "version_minor": 0
      },
      "text/plain": [
       "Render HTML:   0%|          | 0/1 [00:00<?, ?it/s]"
      ]
     },
     "metadata": {},
     "output_type": "display_data"
    },
    {
     "data": {
      "application/vnd.jupyter.widget-view+json": {
       "model_id": "cc1274e1a5904f829b0d0e4d45514320",
       "version_major": 2,
       "version_minor": 0
      },
      "text/plain": [
       "Export report to file:   0%|          | 0/1 [00:00<?, ?it/s]"
      ]
     },
     "metadata": {},
     "output_type": "display_data"
    },
    {
     "name": "stderr",
     "output_type": "stream",
     "text": [
      "2024-07-12 17:27:19,899 - INFO - Reporte de EDA generado.\n",
      "2024-07-12 17:27:19,900 - INFO - Transformando tipos de columnas...\n",
      "2024-07-12 17:27:19,906 - INFO - Transformación de tipos de columnas completada.\n",
      "2024-07-12 17:27:19,907 - INFO - Training, testing and validation sets preparing!\n",
      "2024-07-12 17:27:19,913 - INFO - Training, testing and validation sets partition has finished!\n"
     ]
    },
    {
     "name": "stdout",
     "output_type": "stream",
     "text": [
      " 16%|█▌        | 8/50 [00:45<03:57,  5.66s/trial, best loss: 36722.89903599454]"
     ]
    },
    {
     "name": "stderr",
     "output_type": "stream",
     "text": [
      "/home/mlops_zoomcamp/anaconda3/envs/mlops-final-project/lib/python3.9/site-packages/xgboost/sklearn.py:889: UserWarning: `early_stopping_rounds` in `fit` method is deprecated for better compatibility with scikit-learn, use `early_stopping_rounds` in constructor or`set_params` instead.\n",
      "  warnings.warn(\n",
      "\n",
      "2024-07-12 17:27:19,972 - INFO - build_posterior_wrapper took 0.003041 seconds\n",
      "2024-07-12 17:27:19,973 - INFO - TPE using 8/8 trials with best loss 36722.899036\n",
      "2024-07-12 17:27:19,998 - INFO - Leyendo archivo: historical_info_ISA_Interconnection_Electric.csv\n",
      "2024-07-12 17:27:19,999 - INFO - Iniciando el proceso de lectura de datos...\n",
      "2024-07-12 17:27:20,002 - INFO - Proceso de lectura de datos completado.\n",
      "2024-07-12 17:27:20,003 - INFO - Generando reporte de EDA...\n"
     ]
    },
    {
     "data": {
      "application/vnd.jupyter.widget-view+json": {
       "model_id": "027d595bb4c04db1aa7451199daa033a",
       "version_major": 2,
       "version_minor": 0
      },
      "text/plain": [
       "Summarize dataset:   0%|          | 0/5 [00:00<?, ?it/s]"
      ]
     },
     "metadata": {},
     "output_type": "display_data"
    },
    {
     "data": {
      "application/vnd.jupyter.widget-view+json": {
       "model_id": "2e5b1d9429164a03acb82ab2445b2a67",
       "version_major": 2,
       "version_minor": 0
      },
      "text/plain": [
       "Generate report structure:   0%|          | 0/1 [00:00<?, ?it/s]"
      ]
     },
     "metadata": {},
     "output_type": "display_data"
    },
    {
     "data": {
      "application/vnd.jupyter.widget-view+json": {
       "model_id": "41dcc27717a7474ca6753927cc2ccfdf",
       "version_major": 2,
       "version_minor": 0
      },
      "text/plain": [
       "Render HTML:   0%|          | 0/1 [00:00<?, ?it/s]"
      ]
     },
     "metadata": {},
     "output_type": "display_data"
    },
    {
     "data": {
      "application/vnd.jupyter.widget-view+json": {
       "model_id": "ecb4810ff16f4d13bd6d8fbb2b12ee66",
       "version_major": 2,
       "version_minor": 0
      },
      "text/plain": [
       "Export report to file:   0%|          | 0/1 [00:00<?, ?it/s]"
      ]
     },
     "metadata": {},
     "output_type": "display_data"
    },
    {
     "name": "stderr",
     "output_type": "stream",
     "text": [
      "2024-07-12 17:27:25,379 - INFO - Reporte de EDA generado.\n",
      "2024-07-12 17:27:25,379 - INFO - Transformando tipos de columnas...\n",
      "2024-07-12 17:27:25,385 - INFO - Transformación de tipos de columnas completada.\n",
      "2024-07-12 17:27:25,386 - INFO - Training, testing and validation sets preparing!\n",
      "2024-07-12 17:27:25,392 - INFO - Training, testing and validation sets partition has finished!\n"
     ]
    },
    {
     "name": "stdout",
     "output_type": "stream",
     "text": [
      " 18%|█▊        | 9/50 [00:51<03:49,  5.60s/trial, best loss: 36722.89903599454]"
     ]
    },
    {
     "name": "stderr",
     "output_type": "stream",
     "text": [
      "/home/mlops_zoomcamp/anaconda3/envs/mlops-final-project/lib/python3.9/site-packages/xgboost/sklearn.py:889: UserWarning: `early_stopping_rounds` in `fit` method is deprecated for better compatibility with scikit-learn, use `early_stopping_rounds` in constructor or`set_params` instead.\n",
      "  warnings.warn(\n",
      "\n",
      "2024-07-12 17:27:25,443 - INFO - build_posterior_wrapper took 0.003256 seconds\n",
      "2024-07-12 17:27:25,444 - INFO - TPE using 9/9 trials with best loss 36722.899036\n",
      "2024-07-12 17:27:25,470 - INFO - Leyendo archivo: historical_info_ISA_Interconnection_Electric.csv\n",
      "2024-07-12 17:27:25,471 - INFO - Iniciando el proceso de lectura de datos...\n",
      "2024-07-12 17:27:25,474 - INFO - Proceso de lectura de datos completado.\n",
      "2024-07-12 17:27:25,475 - INFO - Generando reporte de EDA...\n"
     ]
    },
    {
     "data": {
      "application/vnd.jupyter.widget-view+json": {
       "model_id": "2e6e2fc7b5ac4b90a034995d93aea3f4",
       "version_major": 2,
       "version_minor": 0
      },
      "text/plain": [
       "Summarize dataset:   0%|          | 0/5 [00:00<?, ?it/s]"
      ]
     },
     "metadata": {},
     "output_type": "display_data"
    },
    {
     "data": {
      "application/vnd.jupyter.widget-view+json": {
       "model_id": "54fa7ce2a6e24436bb767f738c8a8545",
       "version_major": 2,
       "version_minor": 0
      },
      "text/plain": [
       "Generate report structure:   0%|          | 0/1 [00:00<?, ?it/s]"
      ]
     },
     "metadata": {},
     "output_type": "display_data"
    },
    {
     "data": {
      "application/vnd.jupyter.widget-view+json": {
       "model_id": "6f8f293f815b458fb81fc34688c0f136",
       "version_major": 2,
       "version_minor": 0
      },
      "text/plain": [
       "Render HTML:   0%|          | 0/1 [00:00<?, ?it/s]"
      ]
     },
     "metadata": {},
     "output_type": "display_data"
    },
    {
     "data": {
      "application/vnd.jupyter.widget-view+json": {
       "model_id": "e05855104d43479e976941db22745a16",
       "version_major": 2,
       "version_minor": 0
      },
      "text/plain": [
       "Export report to file:   0%|          | 0/1 [00:00<?, ?it/s]"
      ]
     },
     "metadata": {},
     "output_type": "display_data"
    },
    {
     "name": "stderr",
     "output_type": "stream",
     "text": [
      "2024-07-12 17:27:31,105 - INFO - Reporte de EDA generado.\n",
      "2024-07-12 17:27:31,106 - INFO - Transformando tipos de columnas...\n",
      "2024-07-12 17:27:31,112 - INFO - Transformación de tipos de columnas completada.\n",
      "2024-07-12 17:27:31,113 - INFO - Training, testing and validation sets preparing!\n",
      "2024-07-12 17:27:31,118 - INFO - Training, testing and validation sets partition has finished!\n",
      "/home/mlops_zoomcamp/anaconda3/envs/mlops-final-project/lib/python3.9/site-packages/xgboost/sklearn.py:889: UserWarning: `early_stopping_rounds` in `fit` method is deprecated for better compatibility with scikit-learn, use `early_stopping_rounds` in constructor or`set_params` instead.\n",
      "  warnings.warn(\n",
      "\n"
     ]
    },
    {
     "name": "stdout",
     "output_type": "stream",
     "text": [
      " 20%|██        | 10/50 [00:57<03:47,  5.69s/trial, best loss: 36562.07577655242]"
     ]
    },
    {
     "name": "stderr",
     "output_type": "stream",
     "text": [
      "2024-07-12 17:27:31,335 - INFO - build_posterior_wrapper took 0.003079 seconds\n",
      "2024-07-12 17:27:31,336 - INFO - TPE using 10/10 trials with best loss 36562.075777\n",
      "2024-07-12 17:27:31,363 - INFO - Leyendo archivo: historical_info_ISA_Interconnection_Electric.csv\n",
      "2024-07-12 17:27:31,364 - INFO - Iniciando el proceso de lectura de datos...\n",
      "2024-07-12 17:27:31,367 - INFO - Proceso de lectura de datos completado.\n",
      "2024-07-12 17:27:31,368 - INFO - Generando reporte de EDA...\n"
     ]
    },
    {
     "data": {
      "application/vnd.jupyter.widget-view+json": {
       "model_id": "ad97251173f045d79ea97a79c96eaa84",
       "version_major": 2,
       "version_minor": 0
      },
      "text/plain": [
       "Summarize dataset:   0%|          | 0/5 [00:00<?, ?it/s]"
      ]
     },
     "metadata": {},
     "output_type": "display_data"
    },
    {
     "data": {
      "application/vnd.jupyter.widget-view+json": {
       "model_id": "05423a7bec94410387de73a9bb09e6f2",
       "version_major": 2,
       "version_minor": 0
      },
      "text/plain": [
       "Generate report structure:   0%|          | 0/1 [00:00<?, ?it/s]"
      ]
     },
     "metadata": {},
     "output_type": "display_data"
    },
    {
     "data": {
      "application/vnd.jupyter.widget-view+json": {
       "model_id": "32ab373b34074496bbecb02d885e242c",
       "version_major": 2,
       "version_minor": 0
      },
      "text/plain": [
       "Render HTML:   0%|          | 0/1 [00:00<?, ?it/s]"
      ]
     },
     "metadata": {},
     "output_type": "display_data"
    },
    {
     "data": {
      "application/vnd.jupyter.widget-view+json": {
       "model_id": "0146eb2eee944e988f02cbbc29ef8703",
       "version_major": 2,
       "version_minor": 0
      },
      "text/plain": [
       "Export report to file:   0%|          | 0/1 [00:00<?, ?it/s]"
      ]
     },
     "metadata": {},
     "output_type": "display_data"
    },
    {
     "name": "stderr",
     "output_type": "stream",
     "text": [
      "2024-07-12 17:27:36,731 - INFO - Reporte de EDA generado.\n",
      "2024-07-12 17:27:36,732 - INFO - Transformando tipos de columnas...\n",
      "2024-07-12 17:27:36,738 - INFO - Transformación de tipos de columnas completada.\n",
      "2024-07-12 17:27:36,739 - INFO - Training, testing and validation sets preparing!\n",
      "2024-07-12 17:27:36,745 - INFO - Training, testing and validation sets partition has finished!\n"
     ]
    },
    {
     "name": "stdout",
     "output_type": "stream",
     "text": [
      " 22%|██▏       | 11/50 [01:02<03:39,  5.63s/trial, best loss: 36562.07577655242]"
     ]
    },
    {
     "name": "stderr",
     "output_type": "stream",
     "text": [
      "/home/mlops_zoomcamp/anaconda3/envs/mlops-final-project/lib/python3.9/site-packages/xgboost/sklearn.py:889: UserWarning: `early_stopping_rounds` in `fit` method is deprecated for better compatibility with scikit-learn, use `early_stopping_rounds` in constructor or`set_params` instead.\n",
      "  warnings.warn(\n",
      "\n",
      "2024-07-12 17:27:36,821 - INFO - build_posterior_wrapper took 0.003392 seconds\n",
      "2024-07-12 17:27:36,822 - INFO - TPE using 11/11 trials with best loss 36562.075777\n",
      "2024-07-12 17:27:36,850 - INFO - Leyendo archivo: historical_info_ISA_Interconnection_Electric.csv\n",
      "2024-07-12 17:27:36,850 - INFO - Iniciando el proceso de lectura de datos...\n",
      "2024-07-12 17:27:36,854 - INFO - Proceso de lectura de datos completado.\n",
      "2024-07-12 17:27:36,855 - INFO - Generando reporte de EDA...\n"
     ]
    },
    {
     "data": {
      "application/vnd.jupyter.widget-view+json": {
       "model_id": "3dcf2f75239a4c37b673e5253c9f4068",
       "version_major": 2,
       "version_minor": 0
      },
      "text/plain": [
       "Summarize dataset:   0%|          | 0/5 [00:00<?, ?it/s]"
      ]
     },
     "metadata": {},
     "output_type": "display_data"
    },
    {
     "data": {
      "application/vnd.jupyter.widget-view+json": {
       "model_id": "70c8836856da4d56aeb7d0527488a069",
       "version_major": 2,
       "version_minor": 0
      },
      "text/plain": [
       "Generate report structure:   0%|          | 0/1 [00:00<?, ?it/s]"
      ]
     },
     "metadata": {},
     "output_type": "display_data"
    },
    {
     "data": {
      "application/vnd.jupyter.widget-view+json": {
       "model_id": "f605bb2165c94550be9110fa7fadece4",
       "version_major": 2,
       "version_minor": 0
      },
      "text/plain": [
       "Render HTML:   0%|          | 0/1 [00:00<?, ?it/s]"
      ]
     },
     "metadata": {},
     "output_type": "display_data"
    },
    {
     "data": {
      "application/vnd.jupyter.widget-view+json": {
       "model_id": "07c569209ee84e86be33e725149be70b",
       "version_major": 2,
       "version_minor": 0
      },
      "text/plain": [
       "Export report to file:   0%|          | 0/1 [00:00<?, ?it/s]"
      ]
     },
     "metadata": {},
     "output_type": "display_data"
    },
    {
     "name": "stderr",
     "output_type": "stream",
     "text": [
      "2024-07-12 17:27:42,225 - INFO - Reporte de EDA generado.\n",
      "2024-07-12 17:27:42,225 - INFO - Transformando tipos de columnas...\n",
      "2024-07-12 17:27:42,231 - INFO - Transformación de tipos de columnas completada.\n",
      "2024-07-12 17:27:42,233 - INFO - Training, testing and validation sets preparing!\n",
      "2024-07-12 17:27:42,238 - INFO - Training, testing and validation sets partition has finished!\n"
     ]
    },
    {
     "name": "stdout",
     "output_type": "stream",
     "text": [
      " 24%|██▍       | 12/50 [01:07<03:32,  5.58s/trial, best loss: 36562.07577655242]"
     ]
    },
    {
     "name": "stderr",
     "output_type": "stream",
     "text": [
      "/home/mlops_zoomcamp/anaconda3/envs/mlops-final-project/lib/python3.9/site-packages/xgboost/sklearn.py:889: UserWarning: `early_stopping_rounds` in `fit` method is deprecated for better compatibility with scikit-learn, use `early_stopping_rounds` in constructor or`set_params` instead.\n",
      "  warnings.warn(\n",
      "\n",
      "2024-07-12 17:27:42,298 - INFO - build_posterior_wrapper took 0.003941 seconds\n",
      "2024-07-12 17:27:42,299 - INFO - TPE using 12/12 trials with best loss 36562.075777\n",
      "2024-07-12 17:27:42,329 - INFO - Leyendo archivo: historical_info_ISA_Interconnection_Electric.csv\n",
      "2024-07-12 17:27:42,330 - INFO - Iniciando el proceso de lectura de datos...\n",
      "2024-07-12 17:27:42,334 - INFO - Proceso de lectura de datos completado.\n",
      "2024-07-12 17:27:42,334 - INFO - Generando reporte de EDA...\n"
     ]
    },
    {
     "data": {
      "application/vnd.jupyter.widget-view+json": {
       "model_id": "b43b3d8cb7d84f11bd641abab2fbd110",
       "version_major": 2,
       "version_minor": 0
      },
      "text/plain": [
       "Summarize dataset:   0%|          | 0/5 [00:00<?, ?it/s]"
      ]
     },
     "metadata": {},
     "output_type": "display_data"
    },
    {
     "data": {
      "application/vnd.jupyter.widget-view+json": {
       "model_id": "62237c3b211c4f88859db43a6d5ae1b3",
       "version_major": 2,
       "version_minor": 0
      },
      "text/plain": [
       "Generate report structure:   0%|          | 0/1 [00:00<?, ?it/s]"
      ]
     },
     "metadata": {},
     "output_type": "display_data"
    },
    {
     "data": {
      "application/vnd.jupyter.widget-view+json": {
       "model_id": "17d66b60042f4137aa8bc0087a18038e",
       "version_major": 2,
       "version_minor": 0
      },
      "text/plain": [
       "Render HTML:   0%|          | 0/1 [00:00<?, ?it/s]"
      ]
     },
     "metadata": {},
     "output_type": "display_data"
    },
    {
     "data": {
      "application/vnd.jupyter.widget-view+json": {
       "model_id": "a9b5095aa96c43baa3ecaa0bd2f606f9",
       "version_major": 2,
       "version_minor": 0
      },
      "text/plain": [
       "Export report to file:   0%|          | 0/1 [00:00<?, ?it/s]"
      ]
     },
     "metadata": {},
     "output_type": "display_data"
    },
    {
     "name": "stderr",
     "output_type": "stream",
     "text": [
      "2024-07-12 17:27:47,926 - INFO - Reporte de EDA generado.\n",
      "2024-07-12 17:27:47,927 - INFO - Transformando tipos de columnas...\n",
      "2024-07-12 17:27:47,933 - INFO - Transformación de tipos de columnas completada.\n",
      "2024-07-12 17:27:47,934 - INFO - Training, testing and validation sets preparing!\n",
      "2024-07-12 17:27:47,939 - INFO - Training, testing and validation sets partition has finished!\n",
      "/home/mlops_zoomcamp/anaconda3/envs/mlops-final-project/lib/python3.9/site-packages/xgboost/sklearn.py:889: UserWarning: `early_stopping_rounds` in `fit` method is deprecated for better compatibility with scikit-learn, use `early_stopping_rounds` in constructor or`set_params` instead.\n",
      "  warnings.warn(\n",
      "\n"
     ]
    },
    {
     "name": "stdout",
     "output_type": "stream",
     "text": [
      " 26%|██▌       | 13/50 [01:13<03:29,  5.67s/trial, best loss: 36562.07577655242]"
     ]
    },
    {
     "name": "stderr",
     "output_type": "stream",
     "text": [
      "2024-07-12 17:27:48,175 - INFO - build_posterior_wrapper took 0.003066 seconds\n",
      "2024-07-12 17:27:48,176 - INFO - TPE using 13/13 trials with best loss 36562.075777\n",
      "2024-07-12 17:27:48,202 - INFO - Leyendo archivo: historical_info_ISA_Interconnection_Electric.csv\n",
      "2024-07-12 17:27:48,203 - INFO - Iniciando el proceso de lectura de datos...\n",
      "2024-07-12 17:27:48,206 - INFO - Proceso de lectura de datos completado.\n",
      "2024-07-12 17:27:48,207 - INFO - Generando reporte de EDA...\n"
     ]
    },
    {
     "data": {
      "application/vnd.jupyter.widget-view+json": {
       "model_id": "bd9798d2f70b4376bdc8bc037f20eb67",
       "version_major": 2,
       "version_minor": 0
      },
      "text/plain": [
       "Summarize dataset:   0%|          | 0/5 [00:00<?, ?it/s]"
      ]
     },
     "metadata": {},
     "output_type": "display_data"
    },
    {
     "data": {
      "application/vnd.jupyter.widget-view+json": {
       "model_id": "0ca39cc3928b4ecd9a3034070e50fba4",
       "version_major": 2,
       "version_minor": 0
      },
      "text/plain": [
       "Generate report structure:   0%|          | 0/1 [00:00<?, ?it/s]"
      ]
     },
     "metadata": {},
     "output_type": "display_data"
    },
    {
     "data": {
      "application/vnd.jupyter.widget-view+json": {
       "model_id": "921ed83d1e564162a844bbc2d7b74973",
       "version_major": 2,
       "version_minor": 0
      },
      "text/plain": [
       "Render HTML:   0%|          | 0/1 [00:00<?, ?it/s]"
      ]
     },
     "metadata": {},
     "output_type": "display_data"
    },
    {
     "data": {
      "application/vnd.jupyter.widget-view+json": {
       "model_id": "d2e929a93ec4427cb59ac2079ddddbd4",
       "version_major": 2,
       "version_minor": 0
      },
      "text/plain": [
       "Export report to file:   0%|          | 0/1 [00:00<?, ?it/s]"
      ]
     },
     "metadata": {},
     "output_type": "display_data"
    },
    {
     "name": "stderr",
     "output_type": "stream",
     "text": [
      "2024-07-12 17:27:53,601 - INFO - Reporte de EDA generado.\n",
      "2024-07-12 17:27:53,602 - INFO - Transformando tipos de columnas...\n",
      "2024-07-12 17:27:53,609 - INFO - Transformación de tipos de columnas completada.\n",
      "2024-07-12 17:27:53,611 - INFO - Training, testing and validation sets preparing!\n",
      "2024-07-12 17:27:53,616 - INFO - Training, testing and validation sets partition has finished!\n"
     ]
    },
    {
     "name": "stdout",
     "output_type": "stream",
     "text": [
      " 28%|██▊       | 14/50 [01:19<03:22,  5.63s/trial, best loss: 36562.07577655242]"
     ]
    },
    {
     "name": "stderr",
     "output_type": "stream",
     "text": [
      "/home/mlops_zoomcamp/anaconda3/envs/mlops-final-project/lib/python3.9/site-packages/xgboost/sklearn.py:889: UserWarning: `early_stopping_rounds` in `fit` method is deprecated for better compatibility with scikit-learn, use `early_stopping_rounds` in constructor or`set_params` instead.\n",
      "  warnings.warn(\n",
      "\n",
      "2024-07-12 17:27:53,692 - INFO - build_posterior_wrapper took 0.003060 seconds\n",
      "2024-07-12 17:27:53,693 - INFO - TPE using 14/14 trials with best loss 36562.075777\n",
      "2024-07-12 17:27:53,717 - INFO - Leyendo archivo: historical_info_ISA_Interconnection_Electric.csv\n",
      "2024-07-12 17:27:53,718 - INFO - Iniciando el proceso de lectura de datos...\n",
      "2024-07-12 17:27:53,721 - INFO - Proceso de lectura de datos completado.\n",
      "2024-07-12 17:27:53,721 - INFO - Generando reporte de EDA...\n"
     ]
    },
    {
     "data": {
      "application/vnd.jupyter.widget-view+json": {
       "model_id": "60dc767a97e24455947c70e9d13f16d3",
       "version_major": 2,
       "version_minor": 0
      },
      "text/plain": [
       "Summarize dataset:   0%|          | 0/5 [00:00<?, ?it/s]"
      ]
     },
     "metadata": {},
     "output_type": "display_data"
    },
    {
     "data": {
      "application/vnd.jupyter.widget-view+json": {
       "model_id": "bc4a167d731c42a086118f1848308c5b",
       "version_major": 2,
       "version_minor": 0
      },
      "text/plain": [
       "Generate report structure:   0%|          | 0/1 [00:00<?, ?it/s]"
      ]
     },
     "metadata": {},
     "output_type": "display_data"
    },
    {
     "data": {
      "application/vnd.jupyter.widget-view+json": {
       "model_id": "1157d07c378e4bbf8ad7e4143e2f4dc7",
       "version_major": 2,
       "version_minor": 0
      },
      "text/plain": [
       "Render HTML:   0%|          | 0/1 [00:00<?, ?it/s]"
      ]
     },
     "metadata": {},
     "output_type": "display_data"
    },
    {
     "data": {
      "application/vnd.jupyter.widget-view+json": {
       "model_id": "4882359d6d3740d0a2b89036a6293fb9",
       "version_major": 2,
       "version_minor": 0
      },
      "text/plain": [
       "Export report to file:   0%|          | 0/1 [00:00<?, ?it/s]"
      ]
     },
     "metadata": {},
     "output_type": "display_data"
    },
    {
     "name": "stderr",
     "output_type": "stream",
     "text": [
      "2024-07-12 17:27:59,338 - INFO - Reporte de EDA generado.\n",
      "2024-07-12 17:27:59,339 - INFO - Transformando tipos de columnas...\n",
      "2024-07-12 17:27:59,345 - INFO - Transformación de tipos de columnas completada.\n",
      "2024-07-12 17:27:59,346 - INFO - Training, testing and validation sets preparing!\n",
      "2024-07-12 17:27:59,351 - INFO - Training, testing and validation sets partition has finished!\n"
     ]
    },
    {
     "name": "stdout",
     "output_type": "stream",
     "text": [
      " 30%|███       | 15/50 [01:25<03:17,  5.66s/trial, best loss: 36562.07577655242]"
     ]
    },
    {
     "name": "stderr",
     "output_type": "stream",
     "text": [
      "/home/mlops_zoomcamp/anaconda3/envs/mlops-final-project/lib/python3.9/site-packages/xgboost/sklearn.py:889: UserWarning: `early_stopping_rounds` in `fit` method is deprecated for better compatibility with scikit-learn, use `early_stopping_rounds` in constructor or`set_params` instead.\n",
      "  warnings.warn(\n",
      "\n",
      "2024-07-12 17:27:59,420 - INFO - build_posterior_wrapper took 0.003303 seconds\n",
      "2024-07-12 17:27:59,421 - INFO - TPE using 15/15 trials with best loss 36562.075777\n",
      "2024-07-12 17:27:59,447 - INFO - Leyendo archivo: historical_info_ISA_Interconnection_Electric.csv\n",
      "2024-07-12 17:27:59,448 - INFO - Iniciando el proceso de lectura de datos...\n",
      "2024-07-12 17:27:59,451 - INFO - Proceso de lectura de datos completado.\n",
      "2024-07-12 17:27:59,452 - INFO - Generando reporte de EDA...\n"
     ]
    },
    {
     "data": {
      "application/vnd.jupyter.widget-view+json": {
       "model_id": "14c3484bc161496f894645a2919b7dcb",
       "version_major": 2,
       "version_minor": 0
      },
      "text/plain": [
       "Summarize dataset:   0%|          | 0/5 [00:00<?, ?it/s]"
      ]
     },
     "metadata": {},
     "output_type": "display_data"
    },
    {
     "data": {
      "application/vnd.jupyter.widget-view+json": {
       "model_id": "2864a9766a944e498a55ff3a16f7068e",
       "version_major": 2,
       "version_minor": 0
      },
      "text/plain": [
       "Generate report structure:   0%|          | 0/1 [00:00<?, ?it/s]"
      ]
     },
     "metadata": {},
     "output_type": "display_data"
    },
    {
     "data": {
      "application/vnd.jupyter.widget-view+json": {
       "model_id": "b2969ea06dad40ceaf2aeb0abbb2c260",
       "version_major": 2,
       "version_minor": 0
      },
      "text/plain": [
       "Render HTML:   0%|          | 0/1 [00:00<?, ?it/s]"
      ]
     },
     "metadata": {},
     "output_type": "display_data"
    },
    {
     "data": {
      "application/vnd.jupyter.widget-view+json": {
       "model_id": "7fa17b2bfd974be49a03a5c7cf302145",
       "version_major": 2,
       "version_minor": 0
      },
      "text/plain": [
       "Export report to file:   0%|          | 0/1 [00:00<?, ?it/s]"
      ]
     },
     "metadata": {},
     "output_type": "display_data"
    },
    {
     "name": "stderr",
     "output_type": "stream",
     "text": [
      "2024-07-12 17:28:04,811 - INFO - Reporte de EDA generado.\n",
      "2024-07-12 17:28:04,812 - INFO - Transformando tipos de columnas...\n",
      "2024-07-12 17:28:04,817 - INFO - Transformación de tipos de columnas completada.\n",
      "2024-07-12 17:28:04,819 - INFO - Training, testing and validation sets preparing!\n",
      "2024-07-12 17:28:04,824 - INFO - Training, testing and validation sets partition has finished!\n"
     ]
    },
    {
     "name": "stdout",
     "output_type": "stream",
     "text": [
      " 32%|███▏      | 16/50 [01:30<03:10,  5.60s/trial, best loss: 36562.07577655242]"
     ]
    },
    {
     "name": "stderr",
     "output_type": "stream",
     "text": [
      "/home/mlops_zoomcamp/anaconda3/envs/mlops-final-project/lib/python3.9/site-packages/xgboost/sklearn.py:889: UserWarning: `early_stopping_rounds` in `fit` method is deprecated for better compatibility with scikit-learn, use `early_stopping_rounds` in constructor or`set_params` instead.\n",
      "  warnings.warn(\n",
      "\n",
      "2024-07-12 17:28:04,901 - INFO - build_posterior_wrapper took 0.003253 seconds\n",
      "2024-07-12 17:28:04,902 - INFO - TPE using 16/16 trials with best loss 36562.075777\n",
      "2024-07-12 17:28:04,928 - INFO - Leyendo archivo: historical_info_ISA_Interconnection_Electric.csv\n",
      "2024-07-12 17:28:04,929 - INFO - Iniciando el proceso de lectura de datos...\n",
      "2024-07-12 17:28:04,933 - INFO - Proceso de lectura de datos completado.\n",
      "2024-07-12 17:28:04,934 - INFO - Generando reporte de EDA...\n"
     ]
    },
    {
     "data": {
      "application/vnd.jupyter.widget-view+json": {
       "model_id": "19ba4b01aaf447838264f46ad45acbdb",
       "version_major": 2,
       "version_minor": 0
      },
      "text/plain": [
       "Summarize dataset:   0%|          | 0/5 [00:00<?, ?it/s]"
      ]
     },
     "metadata": {},
     "output_type": "display_data"
    },
    {
     "data": {
      "application/vnd.jupyter.widget-view+json": {
       "model_id": "59a6e983a4344189a16481882bdcdd56",
       "version_major": 2,
       "version_minor": 0
      },
      "text/plain": [
       "Generate report structure:   0%|          | 0/1 [00:00<?, ?it/s]"
      ]
     },
     "metadata": {},
     "output_type": "display_data"
    },
    {
     "data": {
      "application/vnd.jupyter.widget-view+json": {
       "model_id": "6390d699e2614f87b8c398af6f58a8e0",
       "version_major": 2,
       "version_minor": 0
      },
      "text/plain": [
       "Render HTML:   0%|          | 0/1 [00:00<?, ?it/s]"
      ]
     },
     "metadata": {},
     "output_type": "display_data"
    },
    {
     "data": {
      "application/vnd.jupyter.widget-view+json": {
       "model_id": "719d3531be9a41d887fed26c71187cc0",
       "version_major": 2,
       "version_minor": 0
      },
      "text/plain": [
       "Export report to file:   0%|          | 0/1 [00:00<?, ?it/s]"
      ]
     },
     "metadata": {},
     "output_type": "display_data"
    },
    {
     "name": "stderr",
     "output_type": "stream",
     "text": [
      "2024-07-12 17:28:10,498 - INFO - Reporte de EDA generado.\n",
      "2024-07-12 17:28:10,498 - INFO - Transformando tipos de columnas...\n",
      "2024-07-12 17:28:10,504 - INFO - Transformación de tipos de columnas completada.\n",
      "2024-07-12 17:28:10,505 - INFO - Training, testing and validation sets preparing!\n",
      "2024-07-12 17:28:10,510 - INFO - Training, testing and validation sets partition has finished!\n"
     ]
    },
    {
     "name": "stdout",
     "output_type": "stream",
     "text": [
      " 34%|███▍      | 17/50 [01:36<03:05,  5.63s/trial, best loss: 36562.07577655242]"
     ]
    },
    {
     "name": "stderr",
     "output_type": "stream",
     "text": [
      "/home/mlops_zoomcamp/anaconda3/envs/mlops-final-project/lib/python3.9/site-packages/xgboost/sklearn.py:889: UserWarning: `early_stopping_rounds` in `fit` method is deprecated for better compatibility with scikit-learn, use `early_stopping_rounds` in constructor or`set_params` instead.\n",
      "  warnings.warn(\n",
      "\n",
      "2024-07-12 17:28:10,589 - INFO - build_posterior_wrapper took 0.003190 seconds\n",
      "2024-07-12 17:28:10,590 - INFO - TPE using 17/17 trials with best loss 36562.075777\n",
      "2024-07-12 17:28:10,616 - INFO - Leyendo archivo: historical_info_ISA_Interconnection_Electric.csv\n",
      "2024-07-12 17:28:10,617 - INFO - Iniciando el proceso de lectura de datos...\n",
      "2024-07-12 17:28:10,620 - INFO - Proceso de lectura de datos completado.\n",
      "2024-07-12 17:28:10,621 - INFO - Generando reporte de EDA...\n"
     ]
    },
    {
     "data": {
      "application/vnd.jupyter.widget-view+json": {
       "model_id": "432f053350da406192794c4bf1140c0d",
       "version_major": 2,
       "version_minor": 0
      },
      "text/plain": [
       "Summarize dataset:   0%|          | 0/5 [00:00<?, ?it/s]"
      ]
     },
     "metadata": {},
     "output_type": "display_data"
    },
    {
     "data": {
      "application/vnd.jupyter.widget-view+json": {
       "model_id": "c24bcc6efbd54b86a28d9280bef252a9",
       "version_major": 2,
       "version_minor": 0
      },
      "text/plain": [
       "Generate report structure:   0%|          | 0/1 [00:00<?, ?it/s]"
      ]
     },
     "metadata": {},
     "output_type": "display_data"
    },
    {
     "data": {
      "application/vnd.jupyter.widget-view+json": {
       "model_id": "7d20b6bf5bec49e8930799505aac7dcc",
       "version_major": 2,
       "version_minor": 0
      },
      "text/plain": [
       "Render HTML:   0%|          | 0/1 [00:00<?, ?it/s]"
      ]
     },
     "metadata": {},
     "output_type": "display_data"
    },
    {
     "data": {
      "application/vnd.jupyter.widget-view+json": {
       "model_id": "1625b2315f2d4e16a8d5becb0588e9ab",
       "version_major": 2,
       "version_minor": 0
      },
      "text/plain": [
       "Export report to file:   0%|          | 0/1 [00:00<?, ?it/s]"
      ]
     },
     "metadata": {},
     "output_type": "display_data"
    },
    {
     "name": "stderr",
     "output_type": "stream",
     "text": [
      "2024-07-12 17:28:15,962 - INFO - Reporte de EDA generado.\n",
      "2024-07-12 17:28:15,963 - INFO - Transformando tipos de columnas...\n",
      "2024-07-12 17:28:15,969 - INFO - Transformación de tipos de columnas completada.\n",
      "2024-07-12 17:28:15,970 - INFO - Training, testing and validation sets preparing!\n",
      "2024-07-12 17:28:15,975 - INFO - Training, testing and validation sets partition has finished!\n"
     ]
    },
    {
     "name": "stdout",
     "output_type": "stream",
     "text": [
      " 36%|███▌      | 18/50 [01:41<02:59,  5.60s/trial, best loss: 36562.07577655242]"
     ]
    },
    {
     "name": "stderr",
     "output_type": "stream",
     "text": [
      "/home/mlops_zoomcamp/anaconda3/envs/mlops-final-project/lib/python3.9/site-packages/xgboost/sklearn.py:889: UserWarning: `early_stopping_rounds` in `fit` method is deprecated for better compatibility with scikit-learn, use `early_stopping_rounds` in constructor or`set_params` instead.\n",
      "  warnings.warn(\n",
      "\n",
      "2024-07-12 17:28:16,127 - INFO - build_posterior_wrapper took 0.003208 seconds\n",
      "2024-07-12 17:28:16,128 - INFO - TPE using 18/18 trials with best loss 36562.075777\n",
      "2024-07-12 17:28:16,158 - INFO - Leyendo archivo: historical_info_ISA_Interconnection_Electric.csv\n",
      "2024-07-12 17:28:16,158 - INFO - Iniciando el proceso de lectura de datos...\n",
      "2024-07-12 17:28:16,162 - INFO - Proceso de lectura de datos completado.\n",
      "2024-07-12 17:28:16,162 - INFO - Generando reporte de EDA...\n"
     ]
    },
    {
     "data": {
      "application/vnd.jupyter.widget-view+json": {
       "model_id": "7cc5e652d2b643098786aa63167238da",
       "version_major": 2,
       "version_minor": 0
      },
      "text/plain": [
       "Summarize dataset:   0%|          | 0/5 [00:00<?, ?it/s]"
      ]
     },
     "metadata": {},
     "output_type": "display_data"
    },
    {
     "data": {
      "application/vnd.jupyter.widget-view+json": {
       "model_id": "280c32a3ae4f4623809917a345496586",
       "version_major": 2,
       "version_minor": 0
      },
      "text/plain": [
       "Generate report structure:   0%|          | 0/1 [00:00<?, ?it/s]"
      ]
     },
     "metadata": {},
     "output_type": "display_data"
    },
    {
     "data": {
      "application/vnd.jupyter.widget-view+json": {
       "model_id": "f5182dbb0cf74623bcff4dbb4b380086",
       "version_major": 2,
       "version_minor": 0
      },
      "text/plain": [
       "Render HTML:   0%|          | 0/1 [00:00<?, ?it/s]"
      ]
     },
     "metadata": {},
     "output_type": "display_data"
    },
    {
     "data": {
      "application/vnd.jupyter.widget-view+json": {
       "model_id": "84bbd5d314534037822271c958c08456",
       "version_major": 2,
       "version_minor": 0
      },
      "text/plain": [
       "Export report to file:   0%|          | 0/1 [00:00<?, ?it/s]"
      ]
     },
     "metadata": {},
     "output_type": "display_data"
    },
    {
     "name": "stderr",
     "output_type": "stream",
     "text": [
      "2024-07-12 17:28:21,753 - INFO - Reporte de EDA generado.\n",
      "2024-07-12 17:28:21,753 - INFO - Transformando tipos de columnas...\n",
      "2024-07-12 17:28:21,759 - INFO - Transformación de tipos de columnas completada.\n",
      "2024-07-12 17:28:21,761 - INFO - Training, testing and validation sets preparing!\n",
      "2024-07-12 17:28:21,766 - INFO - Training, testing and validation sets partition has finished!\n"
     ]
    },
    {
     "name": "stdout",
     "output_type": "stream",
     "text": [
      " 38%|███▊      | 19/50 [01:47<02:55,  5.66s/trial, best loss: 36562.07577655242]"
     ]
    },
    {
     "name": "stderr",
     "output_type": "stream",
     "text": [
      "/home/mlops_zoomcamp/anaconda3/envs/mlops-final-project/lib/python3.9/site-packages/xgboost/sklearn.py:889: UserWarning: `early_stopping_rounds` in `fit` method is deprecated for better compatibility with scikit-learn, use `early_stopping_rounds` in constructor or`set_params` instead.\n",
      "  warnings.warn(\n",
      "\n",
      "2024-07-12 17:28:21,916 - INFO - build_posterior_wrapper took 0.004344 seconds\n",
      "2024-07-12 17:28:21,917 - INFO - TPE using 19/19 trials with best loss 36562.075777\n",
      "2024-07-12 17:28:21,946 - INFO - Leyendo archivo: historical_info_ISA_Interconnection_Electric.csv\n",
      "2024-07-12 17:28:21,947 - INFO - Iniciando el proceso de lectura de datos...\n",
      "2024-07-12 17:28:21,950 - INFO - Proceso de lectura de datos completado.\n",
      "2024-07-12 17:28:21,952 - INFO - Generando reporte de EDA...\n"
     ]
    },
    {
     "data": {
      "application/vnd.jupyter.widget-view+json": {
       "model_id": "a3938525ffd5439b8a6bc2540eb4ca4a",
       "version_major": 2,
       "version_minor": 0
      },
      "text/plain": [
       "Summarize dataset:   0%|          | 0/5 [00:00<?, ?it/s]"
      ]
     },
     "metadata": {},
     "output_type": "display_data"
    },
    {
     "data": {
      "application/vnd.jupyter.widget-view+json": {
       "model_id": "80c1964b45d244bb9dc2cdd10f7a93b9",
       "version_major": 2,
       "version_minor": 0
      },
      "text/plain": [
       "Generate report structure:   0%|          | 0/1 [00:00<?, ?it/s]"
      ]
     },
     "metadata": {},
     "output_type": "display_data"
    },
    {
     "data": {
      "application/vnd.jupyter.widget-view+json": {
       "model_id": "1a714e7f68ae44baa200de73964d4295",
       "version_major": 2,
       "version_minor": 0
      },
      "text/plain": [
       "Render HTML:   0%|          | 0/1 [00:00<?, ?it/s]"
      ]
     },
     "metadata": {},
     "output_type": "display_data"
    },
    {
     "data": {
      "application/vnd.jupyter.widget-view+json": {
       "model_id": "5c4f6f41e7b94e59a89c4303cc88a507",
       "version_major": 2,
       "version_minor": 0
      },
      "text/plain": [
       "Export report to file:   0%|          | 0/1 [00:00<?, ?it/s]"
      ]
     },
     "metadata": {},
     "output_type": "display_data"
    },
    {
     "name": "stderr",
     "output_type": "stream",
     "text": [
      "2024-07-12 17:28:27,343 - INFO - Reporte de EDA generado.\n",
      "2024-07-12 17:28:27,344 - INFO - Transformando tipos de columnas...\n",
      "2024-07-12 17:28:27,350 - INFO - Transformación de tipos de columnas completada.\n",
      "2024-07-12 17:28:27,351 - INFO - Training, testing and validation sets preparing!\n",
      "2024-07-12 17:28:27,357 - INFO - Training, testing and validation sets partition has finished!\n"
     ]
    },
    {
     "name": "stdout",
     "output_type": "stream",
     "text": [
      " 40%|████      | 20/50 [01:53<02:48,  5.62s/trial, best loss: 36562.07577655242]"
     ]
    },
    {
     "name": "stderr",
     "output_type": "stream",
     "text": [
      "/home/mlops_zoomcamp/anaconda3/envs/mlops-final-project/lib/python3.9/site-packages/xgboost/sklearn.py:889: UserWarning: `early_stopping_rounds` in `fit` method is deprecated for better compatibility with scikit-learn, use `early_stopping_rounds` in constructor or`set_params` instead.\n",
      "  warnings.warn(\n",
      "\n",
      "2024-07-12 17:28:27,444 - INFO - build_posterior_wrapper took 0.003432 seconds\n",
      "2024-07-12 17:28:27,445 - INFO - TPE using 20/20 trials with best loss 36562.075777\n",
      "2024-07-12 17:28:27,474 - INFO - Leyendo archivo: historical_info_ISA_Interconnection_Electric.csv\n",
      "2024-07-12 17:28:27,475 - INFO - Iniciando el proceso de lectura de datos...\n",
      "2024-07-12 17:28:27,478 - INFO - Proceso de lectura de datos completado.\n",
      "2024-07-12 17:28:27,479 - INFO - Generando reporte de EDA...\n"
     ]
    },
    {
     "data": {
      "application/vnd.jupyter.widget-view+json": {
       "model_id": "e0dc892a835148ecae9b4f85d1132f68",
       "version_major": 2,
       "version_minor": 0
      },
      "text/plain": [
       "Summarize dataset:   0%|          | 0/5 [00:00<?, ?it/s]"
      ]
     },
     "metadata": {},
     "output_type": "display_data"
    },
    {
     "data": {
      "application/vnd.jupyter.widget-view+json": {
       "model_id": "ea2d8f289cd34a6b8ecc20d5e3a4a71c",
       "version_major": 2,
       "version_minor": 0
      },
      "text/plain": [
       "Generate report structure:   0%|          | 0/1 [00:00<?, ?it/s]"
      ]
     },
     "metadata": {},
     "output_type": "display_data"
    },
    {
     "data": {
      "application/vnd.jupyter.widget-view+json": {
       "model_id": "2733fd2c1ac34d6cb719c7ab1dba78d4",
       "version_major": 2,
       "version_minor": 0
      },
      "text/plain": [
       "Render HTML:   0%|          | 0/1 [00:00<?, ?it/s]"
      ]
     },
     "metadata": {},
     "output_type": "display_data"
    },
    {
     "data": {
      "application/vnd.jupyter.widget-view+json": {
       "model_id": "9e526e1ac91e46ff8e25bcc1c15f7be6",
       "version_major": 2,
       "version_minor": 0
      },
      "text/plain": [
       "Export report to file:   0%|          | 0/1 [00:00<?, ?it/s]"
      ]
     },
     "metadata": {},
     "output_type": "display_data"
    },
    {
     "name": "stderr",
     "output_type": "stream",
     "text": [
      "2024-07-12 17:28:32,960 - INFO - Reporte de EDA generado.\n",
      "2024-07-12 17:28:32,961 - INFO - Transformando tipos de columnas...\n",
      "2024-07-12 17:28:32,967 - INFO - Transformación de tipos de columnas completada.\n",
      "2024-07-12 17:28:32,969 - INFO - Training, testing and validation sets preparing!\n",
      "2024-07-12 17:28:32,974 - INFO - Training, testing and validation sets partition has finished!\n"
     ]
    },
    {
     "name": "stdout",
     "output_type": "stream",
     "text": [
      " 42%|████▏     | 21/50 [01:58<02:42,  5.61s/trial, best loss: 36562.07577655242]"
     ]
    },
    {
     "name": "stderr",
     "output_type": "stream",
     "text": [
      "/home/mlops_zoomcamp/anaconda3/envs/mlops-final-project/lib/python3.9/site-packages/xgboost/sklearn.py:889: UserWarning: `early_stopping_rounds` in `fit` method is deprecated for better compatibility with scikit-learn, use `early_stopping_rounds` in constructor or`set_params` instead.\n",
      "  warnings.warn(\n",
      "\n",
      "2024-07-12 17:28:33,018 - INFO - build_posterior_wrapper took 0.003445 seconds\n",
      "2024-07-12 17:28:33,019 - INFO - TPE using 21/21 trials with best loss 36562.075777\n",
      "2024-07-12 17:28:33,050 - INFO - Leyendo archivo: historical_info_ISA_Interconnection_Electric.csv\n",
      "2024-07-12 17:28:33,051 - INFO - Iniciando el proceso de lectura de datos...\n",
      "2024-07-12 17:28:33,054 - INFO - Proceso de lectura de datos completado.\n",
      "2024-07-12 17:28:33,055 - INFO - Generando reporte de EDA...\n"
     ]
    },
    {
     "data": {
      "application/vnd.jupyter.widget-view+json": {
       "model_id": "c87c92aaf22f4134bd90e8c78797bc23",
       "version_major": 2,
       "version_minor": 0
      },
      "text/plain": [
       "Summarize dataset:   0%|          | 0/5 [00:00<?, ?it/s]"
      ]
     },
     "metadata": {},
     "output_type": "display_data"
    },
    {
     "data": {
      "application/vnd.jupyter.widget-view+json": {
       "model_id": "2c0c07c9eaa04877947e967a5ff89e64",
       "version_major": 2,
       "version_minor": 0
      },
      "text/plain": [
       "Generate report structure:   0%|          | 0/1 [00:00<?, ?it/s]"
      ]
     },
     "metadata": {},
     "output_type": "display_data"
    },
    {
     "data": {
      "application/vnd.jupyter.widget-view+json": {
       "model_id": "369f109a46b7430cb7880cdaa5557101",
       "version_major": 2,
       "version_minor": 0
      },
      "text/plain": [
       "Render HTML:   0%|          | 0/1 [00:00<?, ?it/s]"
      ]
     },
     "metadata": {},
     "output_type": "display_data"
    },
    {
     "data": {
      "application/vnd.jupyter.widget-view+json": {
       "model_id": "fdc57be3faf3434ea35779b9603a5880",
       "version_major": 2,
       "version_minor": 0
      },
      "text/plain": [
       "Export report to file:   0%|          | 0/1 [00:00<?, ?it/s]"
      ]
     },
     "metadata": {},
     "output_type": "display_data"
    },
    {
     "name": "stderr",
     "output_type": "stream",
     "text": [
      "2024-07-12 17:28:38,652 - INFO - Reporte de EDA generado.\n",
      "2024-07-12 17:28:38,653 - INFO - Transformando tipos de columnas...\n",
      "2024-07-12 17:28:38,659 - INFO - Transformación de tipos de columnas completada.\n",
      "2024-07-12 17:28:38,661 - INFO - Training, testing and validation sets preparing!\n",
      "2024-07-12 17:28:38,666 - INFO - Training, testing and validation sets partition has finished!\n"
     ]
    },
    {
     "name": "stdout",
     "output_type": "stream",
     "text": [
      " 44%|████▍     | 22/50 [02:04<02:37,  5.64s/trial, best loss: 36562.07577655242]"
     ]
    },
    {
     "name": "stderr",
     "output_type": "stream",
     "text": [
      "/home/mlops_zoomcamp/anaconda3/envs/mlops-final-project/lib/python3.9/site-packages/xgboost/sklearn.py:889: UserWarning: `early_stopping_rounds` in `fit` method is deprecated for better compatibility with scikit-learn, use `early_stopping_rounds` in constructor or`set_params` instead.\n",
      "  warnings.warn(\n",
      "\n",
      "2024-07-12 17:28:38,744 - INFO - build_posterior_wrapper took 0.004967 seconds\n",
      "2024-07-12 17:28:38,745 - INFO - TPE using 22/22 trials with best loss 36562.075777\n",
      "2024-07-12 17:28:38,778 - INFO - Leyendo archivo: historical_info_ISA_Interconnection_Electric.csv\n",
      "2024-07-12 17:28:38,779 - INFO - Iniciando el proceso de lectura de datos...\n",
      "2024-07-12 17:28:38,783 - INFO - Proceso de lectura de datos completado.\n",
      "2024-07-12 17:28:38,783 - INFO - Generando reporte de EDA...\n"
     ]
    },
    {
     "data": {
      "application/vnd.jupyter.widget-view+json": {
       "model_id": "0986c4d507bb4e2e94e810ff8737de99",
       "version_major": 2,
       "version_minor": 0
      },
      "text/plain": [
       "Summarize dataset:   0%|          | 0/5 [00:00<?, ?it/s]"
      ]
     },
     "metadata": {},
     "output_type": "display_data"
    },
    {
     "data": {
      "application/vnd.jupyter.widget-view+json": {
       "model_id": "b1fcab1a367244188ab0b12257ef9eb0",
       "version_major": 2,
       "version_minor": 0
      },
      "text/plain": [
       "Generate report structure:   0%|          | 0/1 [00:00<?, ?it/s]"
      ]
     },
     "metadata": {},
     "output_type": "display_data"
    },
    {
     "data": {
      "application/vnd.jupyter.widget-view+json": {
       "model_id": "fcbf7aec73824078bbf9fb05f7202837",
       "version_major": 2,
       "version_minor": 0
      },
      "text/plain": [
       "Render HTML:   0%|          | 0/1 [00:00<?, ?it/s]"
      ]
     },
     "metadata": {},
     "output_type": "display_data"
    },
    {
     "data": {
      "application/vnd.jupyter.widget-view+json": {
       "model_id": "be26e955fa96481cbf24816ad0345d32",
       "version_major": 2,
       "version_minor": 0
      },
      "text/plain": [
       "Export report to file:   0%|          | 0/1 [00:00<?, ?it/s]"
      ]
     },
     "metadata": {},
     "output_type": "display_data"
    },
    {
     "name": "stderr",
     "output_type": "stream",
     "text": [
      "2024-07-12 17:28:44,126 - INFO - Reporte de EDA generado.\n",
      "2024-07-12 17:28:44,127 - INFO - Transformando tipos de columnas...\n",
      "2024-07-12 17:28:44,132 - INFO - Transformación de tipos de columnas completada.\n",
      "2024-07-12 17:28:44,134 - INFO - Training, testing and validation sets preparing!\n",
      "2024-07-12 17:28:44,139 - INFO - Training, testing and validation sets partition has finished!\n"
     ]
    },
    {
     "name": "stdout",
     "output_type": "stream",
     "text": [
      " 46%|████▌     | 23/50 [02:09<02:30,  5.58s/trial, best loss: 36562.07577655242]"
     ]
    },
    {
     "name": "stderr",
     "output_type": "stream",
     "text": [
      "/home/mlops_zoomcamp/anaconda3/envs/mlops-final-project/lib/python3.9/site-packages/xgboost/sklearn.py:889: UserWarning: `early_stopping_rounds` in `fit` method is deprecated for better compatibility with scikit-learn, use `early_stopping_rounds` in constructor or`set_params` instead.\n",
      "  warnings.warn(\n",
      "\n",
      "2024-07-12 17:28:44,194 - INFO - build_posterior_wrapper took 0.003399 seconds\n",
      "2024-07-12 17:28:44,195 - INFO - TPE using 23/23 trials with best loss 36562.075777\n",
      "2024-07-12 17:28:44,225 - INFO - Leyendo archivo: historical_info_ISA_Interconnection_Electric.csv\n",
      "2024-07-12 17:28:44,226 - INFO - Iniciando el proceso de lectura de datos...\n",
      "2024-07-12 17:28:44,229 - INFO - Proceso de lectura de datos completado.\n",
      "2024-07-12 17:28:44,230 - INFO - Generando reporte de EDA...\n"
     ]
    },
    {
     "data": {
      "application/vnd.jupyter.widget-view+json": {
       "model_id": "e70f5441cf224a78bfe90b6ea72ac491",
       "version_major": 2,
       "version_minor": 0
      },
      "text/plain": [
       "Summarize dataset:   0%|          | 0/5 [00:00<?, ?it/s]"
      ]
     },
     "metadata": {},
     "output_type": "display_data"
    },
    {
     "data": {
      "application/vnd.jupyter.widget-view+json": {
       "model_id": "75695ab7984f4ca8ab7583ea72655fad",
       "version_major": 2,
       "version_minor": 0
      },
      "text/plain": [
       "Generate report structure:   0%|          | 0/1 [00:00<?, ?it/s]"
      ]
     },
     "metadata": {},
     "output_type": "display_data"
    },
    {
     "data": {
      "application/vnd.jupyter.widget-view+json": {
       "model_id": "924e7dcfdc1544618e0f8e3ed9e7be83",
       "version_major": 2,
       "version_minor": 0
      },
      "text/plain": [
       "Render HTML:   0%|          | 0/1 [00:00<?, ?it/s]"
      ]
     },
     "metadata": {},
     "output_type": "display_data"
    },
    {
     "data": {
      "application/vnd.jupyter.widget-view+json": {
       "model_id": "f2600c369fcb47df9917d6fa8566bd0b",
       "version_major": 2,
       "version_minor": 0
      },
      "text/plain": [
       "Export report to file:   0%|          | 0/1 [00:00<?, ?it/s]"
      ]
     },
     "metadata": {},
     "output_type": "display_data"
    },
    {
     "name": "stderr",
     "output_type": "stream",
     "text": [
      "2024-07-12 17:28:49,806 - INFO - Reporte de EDA generado.\n",
      "2024-07-12 17:28:49,807 - INFO - Transformando tipos de columnas...\n",
      "2024-07-12 17:28:49,813 - INFO - Transformación de tipos de columnas completada.\n",
      "2024-07-12 17:28:49,814 - INFO - Training, testing and validation sets preparing!\n",
      "2024-07-12 17:28:49,819 - INFO - Training, testing and validation sets partition has finished!\n"
     ]
    },
    {
     "name": "stdout",
     "output_type": "stream",
     "text": [
      " 48%|████▊     | 24/50 [02:15<02:26,  5.62s/trial, best loss: 36088.83431792505]"
     ]
    },
    {
     "name": "stderr",
     "output_type": "stream",
     "text": [
      "/home/mlops_zoomcamp/anaconda3/envs/mlops-final-project/lib/python3.9/site-packages/xgboost/sklearn.py:889: UserWarning: `early_stopping_rounds` in `fit` method is deprecated for better compatibility with scikit-learn, use `early_stopping_rounds` in constructor or`set_params` instead.\n",
      "  warnings.warn(\n",
      "\n",
      "2024-07-12 17:28:49,896 - INFO - build_posterior_wrapper took 0.003650 seconds\n",
      "2024-07-12 17:28:49,899 - INFO - TPE using 24/24 trials with best loss 36088.834318\n",
      "2024-07-12 17:28:49,933 - INFO - Leyendo archivo: historical_info_ISA_Interconnection_Electric.csv\n",
      "2024-07-12 17:28:49,933 - INFO - Iniciando el proceso de lectura de datos...\n",
      "2024-07-12 17:28:49,938 - INFO - Proceso de lectura de datos completado.\n",
      "2024-07-12 17:28:49,938 - INFO - Generando reporte de EDA...\n"
     ]
    },
    {
     "data": {
      "application/vnd.jupyter.widget-view+json": {
       "model_id": "4cb1438c6cb647f08b2f5e4aaeacf4e5",
       "version_major": 2,
       "version_minor": 0
      },
      "text/plain": [
       "Summarize dataset:   0%|          | 0/5 [00:00<?, ?it/s]"
      ]
     },
     "metadata": {},
     "output_type": "display_data"
    },
    {
     "data": {
      "application/vnd.jupyter.widget-view+json": {
       "model_id": "18852ab054dd47ba9870dd17f7cf7e75",
       "version_major": 2,
       "version_minor": 0
      },
      "text/plain": [
       "Generate report structure:   0%|          | 0/1 [00:00<?, ?it/s]"
      ]
     },
     "metadata": {},
     "output_type": "display_data"
    },
    {
     "data": {
      "application/vnd.jupyter.widget-view+json": {
       "model_id": "1065bd7a85b04445965e0c6acb52124b",
       "version_major": 2,
       "version_minor": 0
      },
      "text/plain": [
       "Render HTML:   0%|          | 0/1 [00:00<?, ?it/s]"
      ]
     },
     "metadata": {},
     "output_type": "display_data"
    },
    {
     "data": {
      "application/vnd.jupyter.widget-view+json": {
       "model_id": "89d94dce981440d8a3dc29156feed1c4",
       "version_major": 2,
       "version_minor": 0
      },
      "text/plain": [
       "Export report to file:   0%|          | 0/1 [00:00<?, ?it/s]"
      ]
     },
     "metadata": {},
     "output_type": "display_data"
    },
    {
     "name": "stderr",
     "output_type": "stream",
     "text": [
      "2024-07-12 17:28:55,310 - INFO - Reporte de EDA generado.\n",
      "2024-07-12 17:28:55,310 - INFO - Transformando tipos de columnas...\n",
      "2024-07-12 17:28:55,316 - INFO - Transformación de tipos de columnas completada.\n",
      "2024-07-12 17:28:55,318 - INFO - Training, testing and validation sets preparing!\n",
      "2024-07-12 17:28:55,322 - INFO - Training, testing and validation sets partition has finished!\n"
     ]
    },
    {
     "name": "stdout",
     "output_type": "stream",
     "text": [
      " 50%|█████     | 25/50 [02:21<02:19,  5.59s/trial, best loss: 36088.83431792505]"
     ]
    },
    {
     "name": "stderr",
     "output_type": "stream",
     "text": [
      "/home/mlops_zoomcamp/anaconda3/envs/mlops-final-project/lib/python3.9/site-packages/xgboost/sklearn.py:889: UserWarning: `early_stopping_rounds` in `fit` method is deprecated for better compatibility with scikit-learn, use `early_stopping_rounds` in constructor or`set_params` instead.\n",
      "  warnings.warn(\n",
      "\n",
      "2024-07-12 17:28:55,411 - INFO - build_posterior_wrapper took 0.004787 seconds\n",
      "2024-07-12 17:28:55,411 - INFO - TPE using 25/25 trials with best loss 36088.834318\n",
      "2024-07-12 17:28:55,449 - INFO - Leyendo archivo: historical_info_ISA_Interconnection_Electric.csv\n",
      "2024-07-12 17:28:55,450 - INFO - Iniciando el proceso de lectura de datos...\n",
      "2024-07-12 17:28:55,454 - INFO - Proceso de lectura de datos completado.\n",
      "2024-07-12 17:28:55,454 - INFO - Generando reporte de EDA...\n"
     ]
    },
    {
     "data": {
      "application/vnd.jupyter.widget-view+json": {
       "model_id": "ed44274b2635458fb080859074b1ea34",
       "version_major": 2,
       "version_minor": 0
      },
      "text/plain": [
       "Summarize dataset:   0%|          | 0/5 [00:00<?, ?it/s]"
      ]
     },
     "metadata": {},
     "output_type": "display_data"
    },
    {
     "data": {
      "application/vnd.jupyter.widget-view+json": {
       "model_id": "9d482d65a19d4ed28c9aef3d1618f048",
       "version_major": 2,
       "version_minor": 0
      },
      "text/plain": [
       "Generate report structure:   0%|          | 0/1 [00:00<?, ?it/s]"
      ]
     },
     "metadata": {},
     "output_type": "display_data"
    },
    {
     "data": {
      "application/vnd.jupyter.widget-view+json": {
       "model_id": "44f4983f18af4e93a33a6ea58b544c46",
       "version_major": 2,
       "version_minor": 0
      },
      "text/plain": [
       "Render HTML:   0%|          | 0/1 [00:00<?, ?it/s]"
      ]
     },
     "metadata": {},
     "output_type": "display_data"
    },
    {
     "data": {
      "application/vnd.jupyter.widget-view+json": {
       "model_id": "c1d9824c0fc5479eb2e48e7bb6a7ec31",
       "version_major": 2,
       "version_minor": 0
      },
      "text/plain": [
       "Export report to file:   0%|          | 0/1 [00:00<?, ?it/s]"
      ]
     },
     "metadata": {},
     "output_type": "display_data"
    },
    {
     "name": "stderr",
     "output_type": "stream",
     "text": [
      "2024-07-12 17:29:01,062 - INFO - Reporte de EDA generado.\n",
      "2024-07-12 17:29:01,062 - INFO - Transformando tipos de columnas...\n",
      "2024-07-12 17:29:01,068 - INFO - Transformación de tipos de columnas completada.\n",
      "2024-07-12 17:29:01,070 - INFO - Training, testing and validation sets preparing!\n",
      "2024-07-12 17:29:01,074 - INFO - Training, testing and validation sets partition has finished!\n",
      "/home/mlops_zoomcamp/anaconda3/envs/mlops-final-project/lib/python3.9/site-packages/xgboost/sklearn.py:889: UserWarning: `early_stopping_rounds` in `fit` method is deprecated for better compatibility with scikit-learn, use `early_stopping_rounds` in constructor or`set_params` instead.\n",
      "  warnings.warn(\n",
      "\n"
     ]
    },
    {
     "name": "stdout",
     "output_type": "stream",
     "text": [
      " 52%|█████▏    | 26/50 [02:27<02:17,  5.71s/trial, best loss: 36088.83431792505]"
     ]
    },
    {
     "name": "stderr",
     "output_type": "stream",
     "text": [
      "2024-07-12 17:29:01,412 - INFO - build_posterior_wrapper took 0.003251 seconds\n",
      "2024-07-12 17:29:01,413 - INFO - TPE using 26/26 trials with best loss 36088.834318\n",
      "2024-07-12 17:29:01,446 - INFO - Leyendo archivo: historical_info_ISA_Interconnection_Electric.csv\n",
      "2024-07-12 17:29:01,447 - INFO - Iniciando el proceso de lectura de datos...\n",
      "2024-07-12 17:29:01,451 - INFO - Proceso de lectura de datos completado.\n",
      "2024-07-12 17:29:01,452 - INFO - Generando reporte de EDA...\n"
     ]
    },
    {
     "data": {
      "application/vnd.jupyter.widget-view+json": {
       "model_id": "0e28789d35fa44ee96d8152fb96806dd",
       "version_major": 2,
       "version_minor": 0
      },
      "text/plain": [
       "Summarize dataset:   0%|          | 0/5 [00:00<?, ?it/s]"
      ]
     },
     "metadata": {},
     "output_type": "display_data"
    },
    {
     "data": {
      "application/vnd.jupyter.widget-view+json": {
       "model_id": "b7f6b760b3a7426a8433cfbf0058ef6e",
       "version_major": 2,
       "version_minor": 0
      },
      "text/plain": [
       "Generate report structure:   0%|          | 0/1 [00:00<?, ?it/s]"
      ]
     },
     "metadata": {},
     "output_type": "display_data"
    },
    {
     "data": {
      "application/vnd.jupyter.widget-view+json": {
       "model_id": "080b1eed1f904275952f8fb9a45b6131",
       "version_major": 2,
       "version_minor": 0
      },
      "text/plain": [
       "Render HTML:   0%|          | 0/1 [00:00<?, ?it/s]"
      ]
     },
     "metadata": {},
     "output_type": "display_data"
    },
    {
     "data": {
      "application/vnd.jupyter.widget-view+json": {
       "model_id": "9719f63599cf417f91387c65d7dc607e",
       "version_major": 2,
       "version_minor": 0
      },
      "text/plain": [
       "Export report to file:   0%|          | 0/1 [00:00<?, ?it/s]"
      ]
     },
     "metadata": {},
     "output_type": "display_data"
    },
    {
     "name": "stderr",
     "output_type": "stream",
     "text": [
      "2024-07-12 17:29:06,793 - INFO - Reporte de EDA generado.\n",
      "2024-07-12 17:29:06,794 - INFO - Transformando tipos de columnas...\n",
      "2024-07-12 17:29:06,799 - INFO - Transformación de tipos de columnas completada.\n",
      "2024-07-12 17:29:06,801 - INFO - Training, testing and validation sets preparing!\n",
      "2024-07-12 17:29:06,806 - INFO - Training, testing and validation sets partition has finished!\n"
     ]
    },
    {
     "name": "stdout",
     "output_type": "stream",
     "text": [
      " 54%|█████▍    | 27/50 [02:32<02:09,  5.64s/trial, best loss: 36088.83431792505]"
     ]
    },
    {
     "name": "stderr",
     "output_type": "stream",
     "text": [
      "/home/mlops_zoomcamp/anaconda3/envs/mlops-final-project/lib/python3.9/site-packages/xgboost/sklearn.py:889: UserWarning: `early_stopping_rounds` in `fit` method is deprecated for better compatibility with scikit-learn, use `early_stopping_rounds` in constructor or`set_params` instead.\n",
      "  warnings.warn(\n",
      "\n",
      "2024-07-12 17:29:06,894 - INFO - build_posterior_wrapper took 0.003606 seconds\n",
      "2024-07-12 17:29:06,895 - INFO - TPE using 27/27 trials with best loss 36088.834318\n",
      "2024-07-12 17:29:06,931 - INFO - Leyendo archivo: historical_info_ISA_Interconnection_Electric.csv\n",
      "2024-07-12 17:29:06,931 - INFO - Iniciando el proceso de lectura de datos...\n",
      "2024-07-12 17:29:06,935 - INFO - Proceso de lectura de datos completado.\n",
      "2024-07-12 17:29:06,936 - INFO - Generando reporte de EDA...\n"
     ]
    },
    {
     "data": {
      "application/vnd.jupyter.widget-view+json": {
       "model_id": "6725686d137f49d4a47a9201243a23b2",
       "version_major": 2,
       "version_minor": 0
      },
      "text/plain": [
       "Summarize dataset:   0%|          | 0/5 [00:00<?, ?it/s]"
      ]
     },
     "metadata": {},
     "output_type": "display_data"
    },
    {
     "data": {
      "application/vnd.jupyter.widget-view+json": {
       "model_id": "cd4dc762b5214fa79816b6694eeac76d",
       "version_major": 2,
       "version_minor": 0
      },
      "text/plain": [
       "Generate report structure:   0%|          | 0/1 [00:00<?, ?it/s]"
      ]
     },
     "metadata": {},
     "output_type": "display_data"
    },
    {
     "data": {
      "application/vnd.jupyter.widget-view+json": {
       "model_id": "c75bb411fb69470aad986ed3c9897c32",
       "version_major": 2,
       "version_minor": 0
      },
      "text/plain": [
       "Render HTML:   0%|          | 0/1 [00:00<?, ?it/s]"
      ]
     },
     "metadata": {},
     "output_type": "display_data"
    },
    {
     "data": {
      "application/vnd.jupyter.widget-view+json": {
       "model_id": "75e22be167754b4f8d10385decea10d9",
       "version_major": 2,
       "version_minor": 0
      },
      "text/plain": [
       "Export report to file:   0%|          | 0/1 [00:00<?, ?it/s]"
      ]
     },
     "metadata": {},
     "output_type": "display_data"
    },
    {
     "name": "stderr",
     "output_type": "stream",
     "text": [
      "2024-07-12 17:29:12,565 - INFO - Reporte de EDA generado.\n",
      "2024-07-12 17:29:12,566 - INFO - Transformando tipos de columnas...\n",
      "2024-07-12 17:29:12,572 - INFO - Transformación de tipos de columnas completada.\n",
      "2024-07-12 17:29:12,574 - INFO - Training, testing and validation sets preparing!\n",
      "2024-07-12 17:29:12,578 - INFO - Training, testing and validation sets partition has finished!\n"
     ]
    },
    {
     "name": "stdout",
     "output_type": "stream",
     "text": [
      " 56%|█████▌    | 28/50 [02:38<02:04,  5.68s/trial, best loss: 35460.675411892924]"
     ]
    },
    {
     "name": "stderr",
     "output_type": "stream",
     "text": [
      "/home/mlops_zoomcamp/anaconda3/envs/mlops-final-project/lib/python3.9/site-packages/xgboost/sklearn.py:889: UserWarning: `early_stopping_rounds` in `fit` method is deprecated for better compatibility with scikit-learn, use `early_stopping_rounds` in constructor or`set_params` instead.\n",
      "  warnings.warn(\n",
      "\n",
      "2024-07-12 17:29:12,655 - INFO - build_posterior_wrapper took 0.003158 seconds\n",
      "2024-07-12 17:29:12,656 - INFO - TPE using 28/28 trials with best loss 35460.675412\n",
      "2024-07-12 17:29:12,682 - INFO - Leyendo archivo: historical_info_ISA_Interconnection_Electric.csv\n",
      "2024-07-12 17:29:12,683 - INFO - Iniciando el proceso de lectura de datos...\n",
      "2024-07-12 17:29:12,686 - INFO - Proceso de lectura de datos completado.\n",
      "2024-07-12 17:29:12,687 - INFO - Generando reporte de EDA...\n"
     ]
    },
    {
     "data": {
      "application/vnd.jupyter.widget-view+json": {
       "model_id": "5bf06d40f10848828d09c0d9c3ea2337",
       "version_major": 2,
       "version_minor": 0
      },
      "text/plain": [
       "Summarize dataset:   0%|          | 0/5 [00:00<?, ?it/s]"
      ]
     },
     "metadata": {},
     "output_type": "display_data"
    },
    {
     "data": {
      "application/vnd.jupyter.widget-view+json": {
       "model_id": "fe5df4d78bbd4f6fa90e3fa82155c4d6",
       "version_major": 2,
       "version_minor": 0
      },
      "text/plain": [
       "Generate report structure:   0%|          | 0/1 [00:00<?, ?it/s]"
      ]
     },
     "metadata": {},
     "output_type": "display_data"
    },
    {
     "data": {
      "application/vnd.jupyter.widget-view+json": {
       "model_id": "3c8bbb6d534c4101ab615ad915173915",
       "version_major": 2,
       "version_minor": 0
      },
      "text/plain": [
       "Render HTML:   0%|          | 0/1 [00:00<?, ?it/s]"
      ]
     },
     "metadata": {},
     "output_type": "display_data"
    },
    {
     "data": {
      "application/vnd.jupyter.widget-view+json": {
       "model_id": "891c3b6f58eb452ebbfecb81145d986f",
       "version_major": 2,
       "version_minor": 0
      },
      "text/plain": [
       "Export report to file:   0%|          | 0/1 [00:00<?, ?it/s]"
      ]
     },
     "metadata": {},
     "output_type": "display_data"
    },
    {
     "name": "stderr",
     "output_type": "stream",
     "text": [
      "2024-07-12 17:29:18,110 - INFO - Reporte de EDA generado.\n",
      "2024-07-12 17:29:18,111 - INFO - Transformando tipos de columnas...\n",
      "2024-07-12 17:29:18,117 - INFO - Transformación de tipos de columnas completada.\n",
      "2024-07-12 17:29:18,119 - INFO - Training, testing and validation sets preparing!\n",
      "2024-07-12 17:29:18,124 - INFO - Training, testing and validation sets partition has finished!\n"
     ]
    },
    {
     "name": "stdout",
     "output_type": "stream",
     "text": [
      " 58%|█████▊    | 29/50 [02:43<01:58,  5.65s/trial, best loss: 35460.675411892924]"
     ]
    },
    {
     "name": "stderr",
     "output_type": "stream",
     "text": [
      "/home/mlops_zoomcamp/anaconda3/envs/mlops-final-project/lib/python3.9/site-packages/xgboost/sklearn.py:889: UserWarning: `early_stopping_rounds` in `fit` method is deprecated for better compatibility with scikit-learn, use `early_stopping_rounds` in constructor or`set_params` instead.\n",
      "  warnings.warn(\n",
      "\n",
      "2024-07-12 17:29:18,223 - INFO - build_posterior_wrapper took 0.003299 seconds\n",
      "2024-07-12 17:29:18,224 - INFO - TPE using 29/29 trials with best loss 35460.675412\n",
      "2024-07-12 17:29:18,256 - INFO - Leyendo archivo: historical_info_ISA_Interconnection_Electric.csv\n",
      "2024-07-12 17:29:18,257 - INFO - Iniciando el proceso de lectura de datos...\n",
      "2024-07-12 17:29:18,260 - INFO - Proceso de lectura de datos completado.\n",
      "2024-07-12 17:29:18,261 - INFO - Generando reporte de EDA...\n"
     ]
    },
    {
     "data": {
      "application/vnd.jupyter.widget-view+json": {
       "model_id": "8c5bc8402fe54fe79103f0465b8cf001",
       "version_major": 2,
       "version_minor": 0
      },
      "text/plain": [
       "Summarize dataset:   0%|          | 0/5 [00:00<?, ?it/s]"
      ]
     },
     "metadata": {},
     "output_type": "display_data"
    },
    {
     "data": {
      "application/vnd.jupyter.widget-view+json": {
       "model_id": "88b119805c2a4da1ad214dd7d76bf274",
       "version_major": 2,
       "version_minor": 0
      },
      "text/plain": [
       "Generate report structure:   0%|          | 0/1 [00:00<?, ?it/s]"
      ]
     },
     "metadata": {},
     "output_type": "display_data"
    },
    {
     "data": {
      "application/vnd.jupyter.widget-view+json": {
       "model_id": "13214a590e4f40f68170f9f2af647ab2",
       "version_major": 2,
       "version_minor": 0
      },
      "text/plain": [
       "Render HTML:   0%|          | 0/1 [00:00<?, ?it/s]"
      ]
     },
     "metadata": {},
     "output_type": "display_data"
    },
    {
     "data": {
      "application/vnd.jupyter.widget-view+json": {
       "model_id": "40f8327c500545efbef3ca9faa7bea9f",
       "version_major": 2,
       "version_minor": 0
      },
      "text/plain": [
       "Export report to file:   0%|          | 0/1 [00:00<?, ?it/s]"
      ]
     },
     "metadata": {},
     "output_type": "display_data"
    },
    {
     "name": "stderr",
     "output_type": "stream",
     "text": [
      "2024-07-12 17:29:23,908 - INFO - Reporte de EDA generado.\n",
      "2024-07-12 17:29:23,909 - INFO - Transformando tipos de columnas...\n",
      "2024-07-12 17:29:23,915 - INFO - Transformación de tipos de columnas completada.\n",
      "2024-07-12 17:29:23,916 - INFO - Training, testing and validation sets preparing!\n",
      "2024-07-12 17:29:23,921 - INFO - Training, testing and validation sets partition has finished!\n"
     ]
    },
    {
     "name": "stdout",
     "output_type": "stream",
     "text": [
      " 60%|██████    | 30/50 [02:49<01:53,  5.69s/trial, best loss: 35460.675411892924]"
     ]
    },
    {
     "name": "stderr",
     "output_type": "stream",
     "text": [
      "/home/mlops_zoomcamp/anaconda3/envs/mlops-final-project/lib/python3.9/site-packages/xgboost/sklearn.py:889: UserWarning: `early_stopping_rounds` in `fit` method is deprecated for better compatibility with scikit-learn, use `early_stopping_rounds` in constructor or`set_params` instead.\n",
      "  warnings.warn(\n",
      "\n",
      "2024-07-12 17:29:24,001 - INFO - build_posterior_wrapper took 0.002979 seconds\n",
      "2024-07-12 17:29:24,002 - INFO - TPE using 30/30 trials with best loss 35460.675412\n",
      "2024-07-12 17:29:24,028 - INFO - Leyendo archivo: historical_info_ISA_Interconnection_Electric.csv\n",
      "2024-07-12 17:29:24,029 - INFO - Iniciando el proceso de lectura de datos...\n",
      "2024-07-12 17:29:24,033 - INFO - Proceso de lectura de datos completado.\n",
      "2024-07-12 17:29:24,033 - INFO - Generando reporte de EDA...\n"
     ]
    },
    {
     "data": {
      "application/vnd.jupyter.widget-view+json": {
       "model_id": "5993aae6fd034ab4bb85cf0bd8ed40c7",
       "version_major": 2,
       "version_minor": 0
      },
      "text/plain": [
       "Summarize dataset:   0%|          | 0/5 [00:00<?, ?it/s]"
      ]
     },
     "metadata": {},
     "output_type": "display_data"
    },
    {
     "data": {
      "application/vnd.jupyter.widget-view+json": {
       "model_id": "0c06350bb932462fb63ac7fb163c51a4",
       "version_major": 2,
       "version_minor": 0
      },
      "text/plain": [
       "Generate report structure:   0%|          | 0/1 [00:00<?, ?it/s]"
      ]
     },
     "metadata": {},
     "output_type": "display_data"
    },
    {
     "data": {
      "application/vnd.jupyter.widget-view+json": {
       "model_id": "b48f9a01d97e41698dad077bd43aa573",
       "version_major": 2,
       "version_minor": 0
      },
      "text/plain": [
       "Render HTML:   0%|          | 0/1 [00:00<?, ?it/s]"
      ]
     },
     "metadata": {},
     "output_type": "display_data"
    },
    {
     "data": {
      "application/vnd.jupyter.widget-view+json": {
       "model_id": "815ddc72193d4d5e9b8264776beeebe2",
       "version_major": 2,
       "version_minor": 0
      },
      "text/plain": [
       "Export report to file:   0%|          | 0/1 [00:00<?, ?it/s]"
      ]
     },
     "metadata": {},
     "output_type": "display_data"
    },
    {
     "name": "stderr",
     "output_type": "stream",
     "text": [
      "2024-07-12 17:29:29,394 - INFO - Reporte de EDA generado.\n",
      "2024-07-12 17:29:29,395 - INFO - Transformando tipos de columnas...\n",
      "2024-07-12 17:29:29,400 - INFO - Transformación de tipos de columnas completada.\n",
      "2024-07-12 17:29:29,401 - INFO - Training, testing and validation sets preparing!\n",
      "2024-07-12 17:29:29,406 - INFO - Training, testing and validation sets partition has finished!\n"
     ]
    },
    {
     "name": "stdout",
     "output_type": "stream",
     "text": [
      " 62%|██████▏   | 31/50 [02:55<01:47,  5.64s/trial, best loss: 35460.675411892924]"
     ]
    },
    {
     "name": "stderr",
     "output_type": "stream",
     "text": [
      "/home/mlops_zoomcamp/anaconda3/envs/mlops-final-project/lib/python3.9/site-packages/xgboost/sklearn.py:889: UserWarning: `early_stopping_rounds` in `fit` method is deprecated for better compatibility with scikit-learn, use `early_stopping_rounds` in constructor or`set_params` instead.\n",
      "  warnings.warn(\n",
      "\n",
      "2024-07-12 17:29:29,525 - INFO - build_posterior_wrapper took 0.003354 seconds\n",
      "2024-07-12 17:29:29,526 - INFO - TPE using 31/31 trials with best loss 35460.675412\n",
      "2024-07-12 17:29:29,560 - INFO - Leyendo archivo: historical_info_ISA_Interconnection_Electric.csv\n",
      "2024-07-12 17:29:29,561 - INFO - Iniciando el proceso de lectura de datos...\n",
      "2024-07-12 17:29:29,564 - INFO - Proceso de lectura de datos completado.\n",
      "2024-07-12 17:29:29,565 - INFO - Generando reporte de EDA...\n"
     ]
    },
    {
     "data": {
      "application/vnd.jupyter.widget-view+json": {
       "model_id": "f52eb236868b42e4bcf16b74b4531a33",
       "version_major": 2,
       "version_minor": 0
      },
      "text/plain": [
       "Summarize dataset:   0%|          | 0/5 [00:00<?, ?it/s]"
      ]
     },
     "metadata": {},
     "output_type": "display_data"
    },
    {
     "data": {
      "application/vnd.jupyter.widget-view+json": {
       "model_id": "bacd6ff9f34f48728aea00382edad1ff",
       "version_major": 2,
       "version_minor": 0
      },
      "text/plain": [
       "Generate report structure:   0%|          | 0/1 [00:00<?, ?it/s]"
      ]
     },
     "metadata": {},
     "output_type": "display_data"
    },
    {
     "data": {
      "application/vnd.jupyter.widget-view+json": {
       "model_id": "104f31f0c9614d399c032bc3acb36a2a",
       "version_major": 2,
       "version_minor": 0
      },
      "text/plain": [
       "Render HTML:   0%|          | 0/1 [00:00<?, ?it/s]"
      ]
     },
     "metadata": {},
     "output_type": "display_data"
    },
    {
     "data": {
      "application/vnd.jupyter.widget-view+json": {
       "model_id": "a250ea873eda4cecb8708f453482ebef",
       "version_major": 2,
       "version_minor": 0
      },
      "text/plain": [
       "Export report to file:   0%|          | 0/1 [00:00<?, ?it/s]"
      ]
     },
     "metadata": {},
     "output_type": "display_data"
    },
    {
     "name": "stderr",
     "output_type": "stream",
     "text": [
      "2024-07-12 17:29:35,043 - INFO - Reporte de EDA generado.\n",
      "2024-07-12 17:29:35,043 - INFO - Transformando tipos de columnas...\n",
      "2024-07-12 17:29:35,050 - INFO - Transformación de tipos de columnas completada.\n",
      "2024-07-12 17:29:35,051 - INFO - Training, testing and validation sets preparing!\n",
      "2024-07-12 17:29:35,056 - INFO - Training, testing and validation sets partition has finished!\n"
     ]
    },
    {
     "name": "stdout",
     "output_type": "stream",
     "text": [
      " 64%|██████▍   | 32/50 [03:00<01:41,  5.63s/trial, best loss: 35460.675411892924]"
     ]
    },
    {
     "name": "stderr",
     "output_type": "stream",
     "text": [
      "/home/mlops_zoomcamp/anaconda3/envs/mlops-final-project/lib/python3.9/site-packages/xgboost/sklearn.py:889: UserWarning: `early_stopping_rounds` in `fit` method is deprecated for better compatibility with scikit-learn, use `early_stopping_rounds` in constructor or`set_params` instead.\n",
      "  warnings.warn(\n",
      "\n",
      "2024-07-12 17:29:35,145 - INFO - build_posterior_wrapper took 0.003403 seconds\n",
      "2024-07-12 17:29:35,146 - INFO - TPE using 32/32 trials with best loss 35460.675412\n",
      "2024-07-12 17:29:35,184 - INFO - Leyendo archivo: historical_info_ISA_Interconnection_Electric.csv\n",
      "2024-07-12 17:29:35,185 - INFO - Iniciando el proceso de lectura de datos...\n",
      "2024-07-12 17:29:35,188 - INFO - Proceso de lectura de datos completado.\n",
      "2024-07-12 17:29:35,189 - INFO - Generando reporte de EDA...\n"
     ]
    },
    {
     "data": {
      "application/vnd.jupyter.widget-view+json": {
       "model_id": "5b9ce27c46aa422ca5fd23b123f67d0a",
       "version_major": 2,
       "version_minor": 0
      },
      "text/plain": [
       "Summarize dataset:   0%|          | 0/5 [00:00<?, ?it/s]"
      ]
     },
     "metadata": {},
     "output_type": "display_data"
    },
    {
     "data": {
      "application/vnd.jupyter.widget-view+json": {
       "model_id": "21941e5c7cf2455db316f1cb70e7a911",
       "version_major": 2,
       "version_minor": 0
      },
      "text/plain": [
       "Generate report structure:   0%|          | 0/1 [00:00<?, ?it/s]"
      ]
     },
     "metadata": {},
     "output_type": "display_data"
    },
    {
     "data": {
      "application/vnd.jupyter.widget-view+json": {
       "model_id": "aea8606d9b1d41348da0f44aad5bf6f9",
       "version_major": 2,
       "version_minor": 0
      },
      "text/plain": [
       "Render HTML:   0%|          | 0/1 [00:00<?, ?it/s]"
      ]
     },
     "metadata": {},
     "output_type": "display_data"
    },
    {
     "data": {
      "application/vnd.jupyter.widget-view+json": {
       "model_id": "9f6d838c47004197b49c19bc1f474639",
       "version_major": 2,
       "version_minor": 0
      },
      "text/plain": [
       "Export report to file:   0%|          | 0/1 [00:00<?, ?it/s]"
      ]
     },
     "metadata": {},
     "output_type": "display_data"
    },
    {
     "name": "stderr",
     "output_type": "stream",
     "text": [
      "2024-07-12 17:29:40,774 - INFO - Reporte de EDA generado.\n",
      "2024-07-12 17:29:40,775 - INFO - Transformando tipos de columnas...\n",
      "2024-07-12 17:29:40,781 - INFO - Transformación de tipos de columnas completada.\n",
      "2024-07-12 17:29:40,782 - INFO - Training, testing and validation sets preparing!\n",
      "2024-07-12 17:29:40,787 - INFO - Training, testing and validation sets partition has finished!\n"
     ]
    },
    {
     "name": "stdout",
     "output_type": "stream",
     "text": [
      " 66%|██████▌   | 33/50 [03:06<01:36,  5.67s/trial, best loss: 35460.675411892924]"
     ]
    },
    {
     "name": "stderr",
     "output_type": "stream",
     "text": [
      "/home/mlops_zoomcamp/anaconda3/envs/mlops-final-project/lib/python3.9/site-packages/xgboost/sklearn.py:889: UserWarning: `early_stopping_rounds` in `fit` method is deprecated for better compatibility with scikit-learn, use `early_stopping_rounds` in constructor or`set_params` instead.\n",
      "  warnings.warn(\n",
      "\n",
      "2024-07-12 17:29:40,895 - INFO - build_posterior_wrapper took 0.003161 seconds\n",
      "2024-07-12 17:29:40,896 - INFO - TPE using 33/33 trials with best loss 35460.675412\n",
      "2024-07-12 17:29:40,939 - INFO - Leyendo archivo: historical_info_ISA_Interconnection_Electric.csv\n",
      "2024-07-12 17:29:40,940 - INFO - Iniciando el proceso de lectura de datos...\n",
      "2024-07-12 17:29:40,943 - INFO - Proceso de lectura de datos completado.\n",
      "2024-07-12 17:29:40,944 - INFO - Generando reporte de EDA...\n"
     ]
    },
    {
     "data": {
      "application/vnd.jupyter.widget-view+json": {
       "model_id": "6b2784ee47164db7ba7ed882490ef8a4",
       "version_major": 2,
       "version_minor": 0
      },
      "text/plain": [
       "Summarize dataset:   0%|          | 0/5 [00:00<?, ?it/s]"
      ]
     },
     "metadata": {},
     "output_type": "display_data"
    },
    {
     "data": {
      "application/vnd.jupyter.widget-view+json": {
       "model_id": "5c2eeb8249894fcca425e4c1114dfaa4",
       "version_major": 2,
       "version_minor": 0
      },
      "text/plain": [
       "Generate report structure:   0%|          | 0/1 [00:00<?, ?it/s]"
      ]
     },
     "metadata": {},
     "output_type": "display_data"
    },
    {
     "data": {
      "application/vnd.jupyter.widget-view+json": {
       "model_id": "beaed5fb71c84380a557e2fd4da32e4c",
       "version_major": 2,
       "version_minor": 0
      },
      "text/plain": [
       "Render HTML:   0%|          | 0/1 [00:00<?, ?it/s]"
      ]
     },
     "metadata": {},
     "output_type": "display_data"
    },
    {
     "data": {
      "application/vnd.jupyter.widget-view+json": {
       "model_id": "08179f05bfa641a8ba65349127fdf642",
       "version_major": 2,
       "version_minor": 0
      },
      "text/plain": [
       "Export report to file:   0%|          | 0/1 [00:00<?, ?it/s]"
      ]
     },
     "metadata": {},
     "output_type": "display_data"
    },
    {
     "name": "stderr",
     "output_type": "stream",
     "text": [
      "2024-07-12 17:29:46,300 - INFO - Reporte de EDA generado.\n",
      "2024-07-12 17:29:46,301 - INFO - Transformando tipos de columnas...\n",
      "2024-07-12 17:29:46,306 - INFO - Transformación de tipos de columnas completada.\n",
      "2024-07-12 17:29:46,308 - INFO - Training, testing and validation sets preparing!\n",
      "2024-07-12 17:29:46,313 - INFO - Training, testing and validation sets partition has finished!\n",
      "/home/mlops_zoomcamp/anaconda3/envs/mlops-final-project/lib/python3.9/site-packages/xgboost/sklearn.py:889: UserWarning: `early_stopping_rounds` in `fit` method is deprecated for better compatibility with scikit-learn, use `early_stopping_rounds` in constructor or`set_params` instead.\n",
      "  warnings.warn(\n",
      "\n"
     ]
    },
    {
     "name": "stdout",
     "output_type": "stream",
     "text": [
      " 68%|██████▊   | 34/50 [03:12<01:30,  5.66s/trial, best loss: 35460.675411892924]"
     ]
    },
    {
     "name": "stderr",
     "output_type": "stream",
     "text": [
      "2024-07-12 17:29:46,544 - INFO - build_posterior_wrapper took 0.003476 seconds\n",
      "2024-07-12 17:29:46,545 - INFO - TPE using 34/34 trials with best loss 35460.675412\n",
      "2024-07-12 17:29:46,578 - INFO - Leyendo archivo: historical_info_ISA_Interconnection_Electric.csv\n",
      "2024-07-12 17:29:46,578 - INFO - Iniciando el proceso de lectura de datos...\n",
      "2024-07-12 17:29:46,582 - INFO - Proceso de lectura de datos completado.\n",
      "2024-07-12 17:29:46,583 - INFO - Generando reporte de EDA...\n"
     ]
    },
    {
     "data": {
      "application/vnd.jupyter.widget-view+json": {
       "model_id": "03dc24d8129842a4b7b9127d04fd7cb6",
       "version_major": 2,
       "version_minor": 0
      },
      "text/plain": [
       "Summarize dataset:   0%|          | 0/5 [00:00<?, ?it/s]"
      ]
     },
     "metadata": {},
     "output_type": "display_data"
    },
    {
     "data": {
      "application/vnd.jupyter.widget-view+json": {
       "model_id": "99daacb53bbb4112840b712d623026d1",
       "version_major": 2,
       "version_minor": 0
      },
      "text/plain": [
       "Generate report structure:   0%|          | 0/1 [00:00<?, ?it/s]"
      ]
     },
     "metadata": {},
     "output_type": "display_data"
    },
    {
     "data": {
      "application/vnd.jupyter.widget-view+json": {
       "model_id": "9f22f6447a1542cf8253873e01e0c101",
       "version_major": 2,
       "version_minor": 0
      },
      "text/plain": [
       "Render HTML:   0%|          | 0/1 [00:00<?, ?it/s]"
      ]
     },
     "metadata": {},
     "output_type": "display_data"
    },
    {
     "data": {
      "application/vnd.jupyter.widget-view+json": {
       "model_id": "18991cf68d6540029717eef809d6ded0",
       "version_major": 2,
       "version_minor": 0
      },
      "text/plain": [
       "Export report to file:   0%|          | 0/1 [00:00<?, ?it/s]"
      ]
     },
     "metadata": {},
     "output_type": "display_data"
    },
    {
     "name": "stderr",
     "output_type": "stream",
     "text": [
      "2024-07-12 17:29:52,173 - INFO - Reporte de EDA generado.\n",
      "2024-07-12 17:29:52,174 - INFO - Transformando tipos de columnas...\n",
      "2024-07-12 17:29:52,179 - INFO - Transformación de tipos de columnas completada.\n",
      "2024-07-12 17:29:52,181 - INFO - Training, testing and validation sets preparing!\n",
      "2024-07-12 17:29:52,185 - INFO - Training, testing and validation sets partition has finished!\n"
     ]
    },
    {
     "name": "stdout",
     "output_type": "stream",
     "text": [
      " 70%|███████   | 35/50 [03:17<01:25,  5.67s/trial, best loss: 35460.675411892924]"
     ]
    },
    {
     "name": "stderr",
     "output_type": "stream",
     "text": [
      "/home/mlops_zoomcamp/anaconda3/envs/mlops-final-project/lib/python3.9/site-packages/xgboost/sklearn.py:889: UserWarning: `early_stopping_rounds` in `fit` method is deprecated for better compatibility with scikit-learn, use `early_stopping_rounds` in constructor or`set_params` instead.\n",
      "  warnings.warn(\n",
      "\n",
      "2024-07-12 17:29:52,238 - INFO - build_posterior_wrapper took 0.003124 seconds\n",
      "2024-07-12 17:29:52,239 - INFO - TPE using 35/35 trials with best loss 35460.675412\n",
      "2024-07-12 17:29:52,269 - INFO - Leyendo archivo: historical_info_ISA_Interconnection_Electric.csv\n",
      "2024-07-12 17:29:52,270 - INFO - Iniciando el proceso de lectura de datos...\n",
      "2024-07-12 17:29:52,273 - INFO - Proceso de lectura de datos completado.\n",
      "2024-07-12 17:29:52,274 - INFO - Generando reporte de EDA...\n"
     ]
    },
    {
     "data": {
      "application/vnd.jupyter.widget-view+json": {
       "model_id": "3a7366062c754a52bceb18e67a5ce4fc",
       "version_major": 2,
       "version_minor": 0
      },
      "text/plain": [
       "Summarize dataset:   0%|          | 0/5 [00:00<?, ?it/s]"
      ]
     },
     "metadata": {},
     "output_type": "display_data"
    },
    {
     "data": {
      "application/vnd.jupyter.widget-view+json": {
       "model_id": "ca202cf00512426bb4486f3d9ed8f7ba",
       "version_major": 2,
       "version_minor": 0
      },
      "text/plain": [
       "Generate report structure:   0%|          | 0/1 [00:00<?, ?it/s]"
      ]
     },
     "metadata": {},
     "output_type": "display_data"
    },
    {
     "data": {
      "application/vnd.jupyter.widget-view+json": {
       "model_id": "9e62409b5ded485c8091f5e5956c1a80",
       "version_major": 2,
       "version_minor": 0
      },
      "text/plain": [
       "Render HTML:   0%|          | 0/1 [00:00<?, ?it/s]"
      ]
     },
     "metadata": {},
     "output_type": "display_data"
    },
    {
     "data": {
      "application/vnd.jupyter.widget-view+json": {
       "model_id": "28673be365a64ba09d773e28acecacf8",
       "version_major": 2,
       "version_minor": 0
      },
      "text/plain": [
       "Export report to file:   0%|          | 0/1 [00:00<?, ?it/s]"
      ]
     },
     "metadata": {},
     "output_type": "display_data"
    },
    {
     "name": "stderr",
     "output_type": "stream",
     "text": [
      "2024-07-12 17:29:57,667 - INFO - Reporte de EDA generado.\n",
      "2024-07-12 17:29:57,668 - INFO - Transformando tipos de columnas...\n",
      "2024-07-12 17:29:57,674 - INFO - Transformación de tipos de columnas completada.\n",
      "2024-07-12 17:29:57,676 - INFO - Training, testing and validation sets preparing!\n",
      "2024-07-12 17:29:57,681 - INFO - Training, testing and validation sets partition has finished!\n"
     ]
    },
    {
     "name": "stdout",
     "output_type": "stream",
     "text": [
      " 72%|███████▏  | 36/50 [03:23<01:19,  5.65s/trial, best loss: 35460.675411892924]"
     ]
    },
    {
     "name": "stderr",
     "output_type": "stream",
     "text": [
      "/home/mlops_zoomcamp/anaconda3/envs/mlops-final-project/lib/python3.9/site-packages/xgboost/sklearn.py:889: UserWarning: `early_stopping_rounds` in `fit` method is deprecated for better compatibility with scikit-learn, use `early_stopping_rounds` in constructor or`set_params` instead.\n",
      "  warnings.warn(\n",
      "\n",
      "2024-07-12 17:29:57,842 - INFO - build_posterior_wrapper took 0.003210 seconds\n",
      "2024-07-12 17:29:57,843 - INFO - TPE using 36/36 trials with best loss 35460.675412\n",
      "2024-07-12 17:29:57,879 - INFO - Leyendo archivo: historical_info_ISA_Interconnection_Electric.csv\n",
      "2024-07-12 17:29:57,880 - INFO - Iniciando el proceso de lectura de datos...\n",
      "2024-07-12 17:29:57,883 - INFO - Proceso de lectura de datos completado.\n",
      "2024-07-12 17:29:57,884 - INFO - Generando reporte de EDA...\n"
     ]
    },
    {
     "data": {
      "application/vnd.jupyter.widget-view+json": {
       "model_id": "a3b1644f761b423688afd03a07f22d29",
       "version_major": 2,
       "version_minor": 0
      },
      "text/plain": [
       "Summarize dataset:   0%|          | 0/5 [00:00<?, ?it/s]"
      ]
     },
     "metadata": {},
     "output_type": "display_data"
    },
    {
     "data": {
      "application/vnd.jupyter.widget-view+json": {
       "model_id": "ebde15faa71e4dcc82d3e19c00319357",
       "version_major": 2,
       "version_minor": 0
      },
      "text/plain": [
       "Generate report structure:   0%|          | 0/1 [00:00<?, ?it/s]"
      ]
     },
     "metadata": {},
     "output_type": "display_data"
    },
    {
     "data": {
      "application/vnd.jupyter.widget-view+json": {
       "model_id": "36511319f1e342fbace50918d07e73d3",
       "version_major": 2,
       "version_minor": 0
      },
      "text/plain": [
       "Render HTML:   0%|          | 0/1 [00:00<?, ?it/s]"
      ]
     },
     "metadata": {},
     "output_type": "display_data"
    },
    {
     "data": {
      "application/vnd.jupyter.widget-view+json": {
       "model_id": "fd1cdf9453ae43ee8b99a07043284d33",
       "version_major": 2,
       "version_minor": 0
      },
      "text/plain": [
       "Export report to file:   0%|          | 0/1 [00:00<?, ?it/s]"
      ]
     },
     "metadata": {},
     "output_type": "display_data"
    },
    {
     "name": "stderr",
     "output_type": "stream",
     "text": [
      "2024-07-12 17:30:03,463 - INFO - Reporte de EDA generado.\n",
      "2024-07-12 17:30:03,463 - INFO - Transformando tipos de columnas...\n",
      "2024-07-12 17:30:03,470 - INFO - Transformación de tipos de columnas completada.\n",
      "2024-07-12 17:30:03,471 - INFO - Training, testing and validation sets preparing!\n",
      "2024-07-12 17:30:03,476 - INFO - Training, testing and validation sets partition has finished!\n",
      "/home/mlops_zoomcamp/anaconda3/envs/mlops-final-project/lib/python3.9/site-packages/xgboost/sklearn.py:889: UserWarning: `early_stopping_rounds` in `fit` method is deprecated for better compatibility with scikit-learn, use `early_stopping_rounds` in constructor or`set_params` instead.\n",
      "  warnings.warn(\n",
      "\n"
     ]
    },
    {
     "name": "stdout",
     "output_type": "stream",
     "text": [
      " 74%|███████▍  | 37/50 [03:29<01:14,  5.72s/trial, best loss: 35460.675411892924]"
     ]
    },
    {
     "name": "stderr",
     "output_type": "stream",
     "text": [
      "2024-07-12 17:30:03,713 - INFO - build_posterior_wrapper took 0.003021 seconds\n",
      "2024-07-12 17:30:03,714 - INFO - TPE using 37/37 trials with best loss 35460.675412\n",
      "2024-07-12 17:30:03,751 - INFO - Leyendo archivo: historical_info_ISA_Interconnection_Electric.csv\n",
      "2024-07-12 17:30:03,752 - INFO - Iniciando el proceso de lectura de datos...\n",
      "2024-07-12 17:30:03,755 - INFO - Proceso de lectura de datos completado.\n",
      "2024-07-12 17:30:03,756 - INFO - Generando reporte de EDA...\n"
     ]
    },
    {
     "data": {
      "application/vnd.jupyter.widget-view+json": {
       "model_id": "00012187feef4dc490f8a6e8000d1b80",
       "version_major": 2,
       "version_minor": 0
      },
      "text/plain": [
       "Summarize dataset:   0%|          | 0/5 [00:00<?, ?it/s]"
      ]
     },
     "metadata": {},
     "output_type": "display_data"
    },
    {
     "data": {
      "application/vnd.jupyter.widget-view+json": {
       "model_id": "23b7fa0d44fb44a0b5ab2f706112a68c",
       "version_major": 2,
       "version_minor": 0
      },
      "text/plain": [
       "Generate report structure:   0%|          | 0/1 [00:00<?, ?it/s]"
      ]
     },
     "metadata": {},
     "output_type": "display_data"
    },
    {
     "data": {
      "application/vnd.jupyter.widget-view+json": {
       "model_id": "d4483e1c297742bc8d2582d08ae9bb74",
       "version_major": 2,
       "version_minor": 0
      },
      "text/plain": [
       "Render HTML:   0%|          | 0/1 [00:00<?, ?it/s]"
      ]
     },
     "metadata": {},
     "output_type": "display_data"
    },
    {
     "data": {
      "application/vnd.jupyter.widget-view+json": {
       "model_id": "9e10331e481f4b4ca4d05814ca2f3ee0",
       "version_major": 2,
       "version_minor": 0
      },
      "text/plain": [
       "Export report to file:   0%|          | 0/1 [00:00<?, ?it/s]"
      ]
     },
     "metadata": {},
     "output_type": "display_data"
    },
    {
     "name": "stderr",
     "output_type": "stream",
     "text": [
      "2024-07-12 17:30:09,130 - INFO - Reporte de EDA generado.\n",
      "2024-07-12 17:30:09,130 - INFO - Transformando tipos de columnas...\n",
      "2024-07-12 17:30:09,136 - INFO - Transformación de tipos de columnas completada.\n",
      "2024-07-12 17:30:09,138 - INFO - Training, testing and validation sets preparing!\n",
      "2024-07-12 17:30:09,142 - INFO - Training, testing and validation sets partition has finished!\n"
     ]
    },
    {
     "name": "stdout",
     "output_type": "stream",
     "text": [
      " 76%|███████▌  | 38/50 [03:34<01:07,  5.66s/trial, best loss: 35460.675411892924]"
     ]
    },
    {
     "name": "stderr",
     "output_type": "stream",
     "text": [
      "/home/mlops_zoomcamp/anaconda3/envs/mlops-final-project/lib/python3.9/site-packages/xgboost/sklearn.py:889: UserWarning: `early_stopping_rounds` in `fit` method is deprecated for better compatibility with scikit-learn, use `early_stopping_rounds` in constructor or`set_params` instead.\n",
      "  warnings.warn(\n",
      "\n",
      "2024-07-12 17:30:09,251 - INFO - build_posterior_wrapper took 0.003598 seconds\n",
      "2024-07-12 17:30:09,252 - INFO - TPE using 38/38 trials with best loss 35460.675412\n",
      "2024-07-12 17:30:09,287 - INFO - Leyendo archivo: historical_info_ISA_Interconnection_Electric.csv\n",
      "2024-07-12 17:30:09,287 - INFO - Iniciando el proceso de lectura de datos...\n",
      "2024-07-12 17:30:09,292 - INFO - Proceso de lectura de datos completado.\n",
      "2024-07-12 17:30:09,292 - INFO - Generando reporte de EDA...\n"
     ]
    },
    {
     "data": {
      "application/vnd.jupyter.widget-view+json": {
       "model_id": "2e407caa2160413ea9f687877358366a",
       "version_major": 2,
       "version_minor": 0
      },
      "text/plain": [
       "Summarize dataset:   0%|          | 0/5 [00:00<?, ?it/s]"
      ]
     },
     "metadata": {},
     "output_type": "display_data"
    },
    {
     "data": {
      "application/vnd.jupyter.widget-view+json": {
       "model_id": "b3ee1e6ab7d34d40a82424f7bcb8556c",
       "version_major": 2,
       "version_minor": 0
      },
      "text/plain": [
       "Generate report structure:   0%|          | 0/1 [00:00<?, ?it/s]"
      ]
     },
     "metadata": {},
     "output_type": "display_data"
    },
    {
     "data": {
      "application/vnd.jupyter.widget-view+json": {
       "model_id": "a2d3c988a8d340bd940d12e8029e9bd8",
       "version_major": 2,
       "version_minor": 0
      },
      "text/plain": [
       "Render HTML:   0%|          | 0/1 [00:00<?, ?it/s]"
      ]
     },
     "metadata": {},
     "output_type": "display_data"
    },
    {
     "data": {
      "application/vnd.jupyter.widget-view+json": {
       "model_id": "27aed228043f437b96ed7a9ed5cdfa46",
       "version_major": 2,
       "version_minor": 0
      },
      "text/plain": [
       "Export report to file:   0%|          | 0/1 [00:00<?, ?it/s]"
      ]
     },
     "metadata": {},
     "output_type": "display_data"
    },
    {
     "name": "stderr",
     "output_type": "stream",
     "text": [
      "2024-07-12 17:30:14,883 - INFO - Reporte de EDA generado.\n",
      "2024-07-12 17:30:14,883 - INFO - Transformando tipos de columnas...\n",
      "2024-07-12 17:30:14,889 - INFO - Transformación de tipos de columnas completada.\n",
      "2024-07-12 17:30:14,891 - INFO - Training, testing and validation sets preparing!\n",
      "2024-07-12 17:30:14,896 - INFO - Training, testing and validation sets partition has finished!\n"
     ]
    },
    {
     "name": "stdout",
     "output_type": "stream",
     "text": [
      " 78%|███████▊  | 39/50 [03:40<01:02,  5.68s/trial, best loss: 35460.675411892924]"
     ]
    },
    {
     "name": "stderr",
     "output_type": "stream",
     "text": [
      "/home/mlops_zoomcamp/anaconda3/envs/mlops-final-project/lib/python3.9/site-packages/xgboost/sklearn.py:889: UserWarning: `early_stopping_rounds` in `fit` method is deprecated for better compatibility with scikit-learn, use `early_stopping_rounds` in constructor or`set_params` instead.\n",
      "  warnings.warn(\n",
      "\n",
      "2024-07-12 17:30:14,974 - INFO - build_posterior_wrapper took 0.004297 seconds\n",
      "2024-07-12 17:30:14,975 - INFO - TPE using 39/39 trials with best loss 35460.675412\n",
      "2024-07-12 17:30:15,008 - INFO - Leyendo archivo: historical_info_ISA_Interconnection_Electric.csv\n",
      "2024-07-12 17:30:15,009 - INFO - Iniciando el proceso de lectura de datos...\n",
      "2024-07-12 17:30:15,012 - INFO - Proceso de lectura de datos completado.\n",
      "2024-07-12 17:30:15,013 - INFO - Generando reporte de EDA...\n"
     ]
    },
    {
     "data": {
      "application/vnd.jupyter.widget-view+json": {
       "model_id": "b503c94c2e704865b77837fa3f1b00d0",
       "version_major": 2,
       "version_minor": 0
      },
      "text/plain": [
       "Summarize dataset:   0%|          | 0/5 [00:00<?, ?it/s]"
      ]
     },
     "metadata": {},
     "output_type": "display_data"
    },
    {
     "data": {
      "application/vnd.jupyter.widget-view+json": {
       "model_id": "b01e7202316544a5a9ff5f4912b1d657",
       "version_major": 2,
       "version_minor": 0
      },
      "text/plain": [
       "Generate report structure:   0%|          | 0/1 [00:00<?, ?it/s]"
      ]
     },
     "metadata": {},
     "output_type": "display_data"
    },
    {
     "data": {
      "application/vnd.jupyter.widget-view+json": {
       "model_id": "87ff78fcd8af45a5a61179c732b0d2aa",
       "version_major": 2,
       "version_minor": 0
      },
      "text/plain": [
       "Render HTML:   0%|          | 0/1 [00:00<?, ?it/s]"
      ]
     },
     "metadata": {},
     "output_type": "display_data"
    },
    {
     "data": {
      "application/vnd.jupyter.widget-view+json": {
       "model_id": "79b05d949bfb4561b166fd87028536c7",
       "version_major": 2,
       "version_minor": 0
      },
      "text/plain": [
       "Export report to file:   0%|          | 0/1 [00:00<?, ?it/s]"
      ]
     },
     "metadata": {},
     "output_type": "display_data"
    },
    {
     "name": "stderr",
     "output_type": "stream",
     "text": [
      "2024-07-12 17:30:20,467 - INFO - Reporte de EDA generado.\n",
      "2024-07-12 17:30:20,468 - INFO - Transformando tipos de columnas...\n",
      "2024-07-12 17:30:20,474 - INFO - Transformación de tipos de columnas completada.\n",
      "2024-07-12 17:30:20,476 - INFO - Training, testing and validation sets preparing!\n",
      "2024-07-12 17:30:20,481 - INFO - Training, testing and validation sets partition has finished!\n"
     ]
    },
    {
     "name": "stdout",
     "output_type": "stream",
     "text": [
      " 80%|████████  | 40/50 [03:46<00:56,  5.65s/trial, best loss: 35083.08683940062] "
     ]
    },
    {
     "name": "stderr",
     "output_type": "stream",
     "text": [
      "/home/mlops_zoomcamp/anaconda3/envs/mlops-final-project/lib/python3.9/site-packages/xgboost/sklearn.py:889: UserWarning: `early_stopping_rounds` in `fit` method is deprecated for better compatibility with scikit-learn, use `early_stopping_rounds` in constructor or`set_params` instead.\n",
      "  warnings.warn(\n",
      "\n",
      "2024-07-12 17:30:20,541 - INFO - build_posterior_wrapper took 0.003363 seconds\n",
      "2024-07-12 17:30:20,542 - INFO - TPE using 40/40 trials with best loss 35083.086839\n",
      "2024-07-12 17:30:20,571 - INFO - Leyendo archivo: historical_info_ISA_Interconnection_Electric.csv\n",
      "2024-07-12 17:30:20,572 - INFO - Iniciando el proceso de lectura de datos...\n",
      "2024-07-12 17:30:20,575 - INFO - Proceso de lectura de datos completado.\n",
      "2024-07-12 17:30:20,576 - INFO - Generando reporte de EDA...\n"
     ]
    },
    {
     "data": {
      "application/vnd.jupyter.widget-view+json": {
       "model_id": "1e2049abb6124aa6a2bfd947f947a0ff",
       "version_major": 2,
       "version_minor": 0
      },
      "text/plain": [
       "Summarize dataset:   0%|          | 0/5 [00:00<?, ?it/s]"
      ]
     },
     "metadata": {},
     "output_type": "display_data"
    },
    {
     "data": {
      "application/vnd.jupyter.widget-view+json": {
       "model_id": "0b88e86004ca45a59f6bd3a6844f05b6",
       "version_major": 2,
       "version_minor": 0
      },
      "text/plain": [
       "Generate report structure:   0%|          | 0/1 [00:00<?, ?it/s]"
      ]
     },
     "metadata": {},
     "output_type": "display_data"
    },
    {
     "data": {
      "application/vnd.jupyter.widget-view+json": {
       "model_id": "038705ffab8c49bfa4ba52a8c1c7445e",
       "version_major": 2,
       "version_minor": 0
      },
      "text/plain": [
       "Render HTML:   0%|          | 0/1 [00:00<?, ?it/s]"
      ]
     },
     "metadata": {},
     "output_type": "display_data"
    },
    {
     "data": {
      "application/vnd.jupyter.widget-view+json": {
       "model_id": "8a417978b8344de0878303f34dc93638",
       "version_major": 2,
       "version_minor": 0
      },
      "text/plain": [
       "Export report to file:   0%|          | 0/1 [00:00<?, ?it/s]"
      ]
     },
     "metadata": {},
     "output_type": "display_data"
    },
    {
     "name": "stderr",
     "output_type": "stream",
     "text": [
      "2024-07-12 17:30:25,926 - INFO - Reporte de EDA generado.\n",
      "2024-07-12 17:30:25,927 - INFO - Transformando tipos de columnas...\n",
      "2024-07-12 17:30:25,932 - INFO - Transformación de tipos de columnas completada.\n",
      "2024-07-12 17:30:25,934 - INFO - Training, testing and validation sets preparing!\n",
      "2024-07-12 17:30:25,939 - INFO - Training, testing and validation sets partition has finished!\n"
     ]
    },
    {
     "name": "stdout",
     "output_type": "stream",
     "text": [
      " 82%|████████▏ | 41/50 [03:51<00:50,  5.59s/trial, best loss: 35083.08683940062]"
     ]
    },
    {
     "name": "stderr",
     "output_type": "stream",
     "text": [
      "/home/mlops_zoomcamp/anaconda3/envs/mlops-final-project/lib/python3.9/site-packages/xgboost/sklearn.py:889: UserWarning: `early_stopping_rounds` in `fit` method is deprecated for better compatibility with scikit-learn, use `early_stopping_rounds` in constructor or`set_params` instead.\n",
      "  warnings.warn(\n",
      "\n",
      "2024-07-12 17:30:25,991 - INFO - build_posterior_wrapper took 0.003178 seconds\n",
      "2024-07-12 17:30:25,992 - INFO - TPE using 41/41 trials with best loss 35083.086839\n",
      "2024-07-12 17:30:26,017 - INFO - Leyendo archivo: historical_info_ISA_Interconnection_Electric.csv\n",
      "2024-07-12 17:30:26,018 - INFO - Iniciando el proceso de lectura de datos...\n",
      "2024-07-12 17:30:26,021 - INFO - Proceso de lectura de datos completado.\n",
      "2024-07-12 17:30:26,022 - INFO - Generando reporte de EDA...\n"
     ]
    },
    {
     "data": {
      "application/vnd.jupyter.widget-view+json": {
       "model_id": "63713305880345538ec11ba6c8add74c",
       "version_major": 2,
       "version_minor": 0
      },
      "text/plain": [
       "Summarize dataset:   0%|          | 0/5 [00:00<?, ?it/s]"
      ]
     },
     "metadata": {},
     "output_type": "display_data"
    },
    {
     "data": {
      "application/vnd.jupyter.widget-view+json": {
       "model_id": "7413ff7326a8410cb4642a4a3779023a",
       "version_major": 2,
       "version_minor": 0
      },
      "text/plain": [
       "Generate report structure:   0%|          | 0/1 [00:00<?, ?it/s]"
      ]
     },
     "metadata": {},
     "output_type": "display_data"
    },
    {
     "data": {
      "application/vnd.jupyter.widget-view+json": {
       "model_id": "0d318541c6bb4400b8f33ab836c37101",
       "version_major": 2,
       "version_minor": 0
      },
      "text/plain": [
       "Render HTML:   0%|          | 0/1 [00:00<?, ?it/s]"
      ]
     },
     "metadata": {},
     "output_type": "display_data"
    },
    {
     "data": {
      "application/vnd.jupyter.widget-view+json": {
       "model_id": "1be6fc38bdba469db82e5d7eae35fb60",
       "version_major": 2,
       "version_minor": 0
      },
      "text/plain": [
       "Export report to file:   0%|          | 0/1 [00:00<?, ?it/s]"
      ]
     },
     "metadata": {},
     "output_type": "display_data"
    },
    {
     "name": "stderr",
     "output_type": "stream",
     "text": [
      "2024-07-12 17:30:31,694 - INFO - Reporte de EDA generado.\n",
      "2024-07-12 17:30:31,695 - INFO - Transformando tipos de columnas...\n",
      "2024-07-12 17:30:31,700 - INFO - Transformación de tipos de columnas completada.\n",
      "2024-07-12 17:30:31,702 - INFO - Training, testing and validation sets preparing!\n",
      "2024-07-12 17:30:31,707 - INFO - Training, testing and validation sets partition has finished!\n"
     ]
    },
    {
     "name": "stdout",
     "output_type": "stream",
     "text": [
      " 84%|████████▍ | 42/50 [03:57<00:45,  5.65s/trial, best loss: 34390.68942606818]"
     ]
    },
    {
     "name": "stderr",
     "output_type": "stream",
     "text": [
      "/home/mlops_zoomcamp/anaconda3/envs/mlops-final-project/lib/python3.9/site-packages/xgboost/sklearn.py:889: UserWarning: `early_stopping_rounds` in `fit` method is deprecated for better compatibility with scikit-learn, use `early_stopping_rounds` in constructor or`set_params` instead.\n",
      "  warnings.warn(\n",
      "\n",
      "2024-07-12 17:30:31,778 - INFO - build_posterior_wrapper took 0.003313 seconds\n",
      "2024-07-12 17:30:31,779 - INFO - TPE using 42/42 trials with best loss 34390.689426\n",
      "2024-07-12 17:30:31,818 - INFO - Leyendo archivo: historical_info_ISA_Interconnection_Electric.csv\n",
      "2024-07-12 17:30:31,819 - INFO - Iniciando el proceso de lectura de datos...\n",
      "2024-07-12 17:30:31,823 - INFO - Proceso de lectura de datos completado.\n",
      "2024-07-12 17:30:31,824 - INFO - Generando reporte de EDA...\n"
     ]
    },
    {
     "data": {
      "application/vnd.jupyter.widget-view+json": {
       "model_id": "f5ee84a981fa4556bf4b883949189fb9",
       "version_major": 2,
       "version_minor": 0
      },
      "text/plain": [
       "Summarize dataset:   0%|          | 0/5 [00:00<?, ?it/s]"
      ]
     },
     "metadata": {},
     "output_type": "display_data"
    },
    {
     "data": {
      "application/vnd.jupyter.widget-view+json": {
       "model_id": "f85e4fb05c6d49048465bab84331c023",
       "version_major": 2,
       "version_minor": 0
      },
      "text/plain": [
       "Generate report structure:   0%|          | 0/1 [00:00<?, ?it/s]"
      ]
     },
     "metadata": {},
     "output_type": "display_data"
    },
    {
     "data": {
      "application/vnd.jupyter.widget-view+json": {
       "model_id": "52cb92c4c5714b298eda6ada1fad64b5",
       "version_major": 2,
       "version_minor": 0
      },
      "text/plain": [
       "Render HTML:   0%|          | 0/1 [00:00<?, ?it/s]"
      ]
     },
     "metadata": {},
     "output_type": "display_data"
    },
    {
     "data": {
      "application/vnd.jupyter.widget-view+json": {
       "model_id": "88ae23e1f5b24364b2520fe55e46b58d",
       "version_major": 2,
       "version_minor": 0
      },
      "text/plain": [
       "Export report to file:   0%|          | 0/1 [00:00<?, ?it/s]"
      ]
     },
     "metadata": {},
     "output_type": "display_data"
    },
    {
     "name": "stderr",
     "output_type": "stream",
     "text": [
      "2024-07-12 17:30:37,289 - INFO - Reporte de EDA generado.\n",
      "2024-07-12 17:30:37,290 - INFO - Transformando tipos de columnas...\n",
      "2024-07-12 17:30:37,296 - INFO - Transformación de tipos de columnas completada.\n",
      "2024-07-12 17:30:37,297 - INFO - Training, testing and validation sets preparing!\n",
      "2024-07-12 17:30:37,302 - INFO - Training, testing and validation sets partition has finished!\n"
     ]
    },
    {
     "name": "stdout",
     "output_type": "stream",
     "text": [
      " 86%|████████▌ | 43/50 [04:03<00:39,  5.63s/trial, best loss: 34390.68942606818]"
     ]
    },
    {
     "name": "stderr",
     "output_type": "stream",
     "text": [
      "/home/mlops_zoomcamp/anaconda3/envs/mlops-final-project/lib/python3.9/site-packages/xgboost/sklearn.py:889: UserWarning: `early_stopping_rounds` in `fit` method is deprecated for better compatibility with scikit-learn, use `early_stopping_rounds` in constructor or`set_params` instead.\n",
      "  warnings.warn(\n",
      "\n",
      "2024-07-12 17:30:37,374 - INFO - build_posterior_wrapper took 0.003091 seconds\n",
      "2024-07-12 17:30:37,375 - INFO - TPE using 43/43 trials with best loss 34390.689426\n",
      "2024-07-12 17:30:37,408 - INFO - Leyendo archivo: historical_info_ISA_Interconnection_Electric.csv\n",
      "2024-07-12 17:30:37,409 - INFO - Iniciando el proceso de lectura de datos...\n",
      "2024-07-12 17:30:37,412 - INFO - Proceso de lectura de datos completado.\n",
      "2024-07-12 17:30:37,413 - INFO - Generando reporte de EDA...\n"
     ]
    },
    {
     "data": {
      "application/vnd.jupyter.widget-view+json": {
       "model_id": "8e1f4e6a551046eb9e236d8abaeee94b",
       "version_major": 2,
       "version_minor": 0
      },
      "text/plain": [
       "Summarize dataset:   0%|          | 0/5 [00:00<?, ?it/s]"
      ]
     },
     "metadata": {},
     "output_type": "display_data"
    },
    {
     "data": {
      "application/vnd.jupyter.widget-view+json": {
       "model_id": "0dd6993b86534d37a321aa5a8cf72d7c",
       "version_major": 2,
       "version_minor": 0
      },
      "text/plain": [
       "Generate report structure:   0%|          | 0/1 [00:00<?, ?it/s]"
      ]
     },
     "metadata": {},
     "output_type": "display_data"
    },
    {
     "data": {
      "application/vnd.jupyter.widget-view+json": {
       "model_id": "a8ec9267a9ce47519b4246cf7dde08b2",
       "version_major": 2,
       "version_minor": 0
      },
      "text/plain": [
       "Render HTML:   0%|          | 0/1 [00:00<?, ?it/s]"
      ]
     },
     "metadata": {},
     "output_type": "display_data"
    },
    {
     "data": {
      "application/vnd.jupyter.widget-view+json": {
       "model_id": "89241c81615e4730922733c8faab710e",
       "version_major": 2,
       "version_minor": 0
      },
      "text/plain": [
       "Export report to file:   0%|          | 0/1 [00:00<?, ?it/s]"
      ]
     },
     "metadata": {},
     "output_type": "display_data"
    },
    {
     "name": "stderr",
     "output_type": "stream",
     "text": [
      "2024-07-12 17:30:43,029 - INFO - Reporte de EDA generado.\n",
      "2024-07-12 17:30:43,030 - INFO - Transformando tipos de columnas...\n",
      "2024-07-12 17:30:43,036 - INFO - Transformación de tipos de columnas completada.\n",
      "2024-07-12 17:30:43,037 - INFO - Training, testing and validation sets preparing!\n",
      "2024-07-12 17:30:43,041 - INFO - Training, testing and validation sets partition has finished!\n"
     ]
    },
    {
     "name": "stdout",
     "output_type": "stream",
     "text": [
      " 88%|████████▊ | 44/50 [04:08<00:34,  5.67s/trial, best loss: 34390.68942606818]"
     ]
    },
    {
     "name": "stderr",
     "output_type": "stream",
     "text": [
      "/home/mlops_zoomcamp/anaconda3/envs/mlops-final-project/lib/python3.9/site-packages/xgboost/sklearn.py:889: UserWarning: `early_stopping_rounds` in `fit` method is deprecated for better compatibility with scikit-learn, use `early_stopping_rounds` in constructor or`set_params` instead.\n",
      "  warnings.warn(\n",
      "\n",
      "2024-07-12 17:30:43,149 - INFO - build_posterior_wrapper took 0.003032 seconds\n",
      "2024-07-12 17:30:43,149 - INFO - TPE using 44/44 trials with best loss 34390.689426\n",
      "2024-07-12 17:30:43,184 - INFO - Leyendo archivo: historical_info_ISA_Interconnection_Electric.csv\n",
      "2024-07-12 17:30:43,185 - INFO - Iniciando el proceso de lectura de datos...\n",
      "2024-07-12 17:30:43,188 - INFO - Proceso de lectura de datos completado.\n",
      "2024-07-12 17:30:43,189 - INFO - Generando reporte de EDA...\n"
     ]
    },
    {
     "data": {
      "application/vnd.jupyter.widget-view+json": {
       "model_id": "7cbb9346ce04453ab7f6640691bdd89d",
       "version_major": 2,
       "version_minor": 0
      },
      "text/plain": [
       "Summarize dataset:   0%|          | 0/5 [00:00<?, ?it/s]"
      ]
     },
     "metadata": {},
     "output_type": "display_data"
    },
    {
     "data": {
      "application/vnd.jupyter.widget-view+json": {
       "model_id": "4b8b468c3c8e4844af3754b6754889a9",
       "version_major": 2,
       "version_minor": 0
      },
      "text/plain": [
       "Generate report structure:   0%|          | 0/1 [00:00<?, ?it/s]"
      ]
     },
     "metadata": {},
     "output_type": "display_data"
    },
    {
     "data": {
      "application/vnd.jupyter.widget-view+json": {
       "model_id": "c3b8c83416de4736b67545d7f53453e6",
       "version_major": 2,
       "version_minor": 0
      },
      "text/plain": [
       "Render HTML:   0%|          | 0/1 [00:00<?, ?it/s]"
      ]
     },
     "metadata": {},
     "output_type": "display_data"
    },
    {
     "data": {
      "application/vnd.jupyter.widget-view+json": {
       "model_id": "144c8c290fb840a6a96af96a3d407ca7",
       "version_major": 2,
       "version_minor": 0
      },
      "text/plain": [
       "Export report to file:   0%|          | 0/1 [00:00<?, ?it/s]"
      ]
     },
     "metadata": {},
     "output_type": "display_data"
    },
    {
     "name": "stderr",
     "output_type": "stream",
     "text": [
      "2024-07-12 17:30:48,672 - INFO - Reporte de EDA generado.\n",
      "2024-07-12 17:30:48,673 - INFO - Transformando tipos de columnas...\n",
      "2024-07-12 17:30:48,678 - INFO - Transformación de tipos de columnas completada.\n",
      "2024-07-12 17:30:48,680 - INFO - Training, testing and validation sets preparing!\n",
      "2024-07-12 17:30:48,685 - INFO - Training, testing and validation sets partition has finished!\n"
     ]
    },
    {
     "name": "stdout",
     "output_type": "stream",
     "text": [
      " 90%|█████████ | 45/50 [04:14<00:28,  5.65s/trial, best loss: 34390.68942606818]"
     ]
    },
    {
     "name": "stderr",
     "output_type": "stream",
     "text": [
      "/home/mlops_zoomcamp/anaconda3/envs/mlops-final-project/lib/python3.9/site-packages/xgboost/sklearn.py:889: UserWarning: `early_stopping_rounds` in `fit` method is deprecated for better compatibility with scikit-learn, use `early_stopping_rounds` in constructor or`set_params` instead.\n",
      "  warnings.warn(\n",
      "\n",
      "2024-07-12 17:30:48,747 - INFO - build_posterior_wrapper took 0.005147 seconds\n",
      "2024-07-12 17:30:48,748 - INFO - TPE using 45/45 trials with best loss 34390.689426\n",
      "2024-07-12 17:30:48,779 - INFO - Leyendo archivo: historical_info_ISA_Interconnection_Electric.csv\n",
      "2024-07-12 17:30:48,780 - INFO - Iniciando el proceso de lectura de datos...\n",
      "2024-07-12 17:30:48,783 - INFO - Proceso de lectura de datos completado.\n",
      "2024-07-12 17:30:48,785 - INFO - Generando reporte de EDA...\n"
     ]
    },
    {
     "data": {
      "application/vnd.jupyter.widget-view+json": {
       "model_id": "8ac4eada22874601898006070da410f4",
       "version_major": 2,
       "version_minor": 0
      },
      "text/plain": [
       "Summarize dataset:   0%|          | 0/5 [00:00<?, ?it/s]"
      ]
     },
     "metadata": {},
     "output_type": "display_data"
    },
    {
     "data": {
      "application/vnd.jupyter.widget-view+json": {
       "model_id": "07ad67dea0c744f7a61efb71892e8692",
       "version_major": 2,
       "version_minor": 0
      },
      "text/plain": [
       "Generate report structure:   0%|          | 0/1 [00:00<?, ?it/s]"
      ]
     },
     "metadata": {},
     "output_type": "display_data"
    },
    {
     "data": {
      "application/vnd.jupyter.widget-view+json": {
       "model_id": "a8d32f9f78234f74a6d9761008d752aa",
       "version_major": 2,
       "version_minor": 0
      },
      "text/plain": [
       "Render HTML:   0%|          | 0/1 [00:00<?, ?it/s]"
      ]
     },
     "metadata": {},
     "output_type": "display_data"
    },
    {
     "data": {
      "application/vnd.jupyter.widget-view+json": {
       "model_id": "6a77d80b947449b8b8c45760928ac2e4",
       "version_major": 2,
       "version_minor": 0
      },
      "text/plain": [
       "Export report to file:   0%|          | 0/1 [00:00<?, ?it/s]"
      ]
     },
     "metadata": {},
     "output_type": "display_data"
    },
    {
     "name": "stderr",
     "output_type": "stream",
     "text": [
      "2024-07-12 17:30:54,689 - INFO - Reporte de EDA generado.\n",
      "2024-07-12 17:30:54,690 - INFO - Transformando tipos de columnas...\n",
      "2024-07-12 17:30:54,696 - INFO - Transformación de tipos de columnas completada.\n",
      "2024-07-12 17:30:54,697 - INFO - Training, testing and validation sets preparing!\n",
      "2024-07-12 17:30:54,702 - INFO - Training, testing and validation sets partition has finished!\n"
     ]
    },
    {
     "name": "stdout",
     "output_type": "stream",
     "text": [
      " 92%|█████████▏| 46/50 [04:20<00:23,  5.76s/trial, best loss: 33348.10532047822]"
     ]
    },
    {
     "name": "stderr",
     "output_type": "stream",
     "text": [
      "/home/mlops_zoomcamp/anaconda3/envs/mlops-final-project/lib/python3.9/site-packages/xgboost/sklearn.py:889: UserWarning: `early_stopping_rounds` in `fit` method is deprecated for better compatibility with scikit-learn, use `early_stopping_rounds` in constructor or`set_params` instead.\n",
      "  warnings.warn(\n",
      "\n",
      "2024-07-12 17:30:54,770 - INFO - build_posterior_wrapper took 0.003013 seconds\n",
      "2024-07-12 17:30:54,771 - INFO - TPE using 46/46 trials with best loss 33348.105320\n",
      "2024-07-12 17:30:54,797 - INFO - Leyendo archivo: historical_info_ISA_Interconnection_Electric.csv\n",
      "2024-07-12 17:30:54,798 - INFO - Iniciando el proceso de lectura de datos...\n",
      "2024-07-12 17:30:54,801 - INFO - Proceso de lectura de datos completado.\n",
      "2024-07-12 17:30:54,802 - INFO - Generando reporte de EDA...\n"
     ]
    },
    {
     "data": {
      "application/vnd.jupyter.widget-view+json": {
       "model_id": "1eedcdda7eea42f3b4c08ceb0995e33c",
       "version_major": 2,
       "version_minor": 0
      },
      "text/plain": [
       "Summarize dataset:   0%|          | 0/5 [00:00<?, ?it/s]"
      ]
     },
     "metadata": {},
     "output_type": "display_data"
    },
    {
     "data": {
      "application/vnd.jupyter.widget-view+json": {
       "model_id": "b65b0751888b4223bd9adb76bcdf6488",
       "version_major": 2,
       "version_minor": 0
      },
      "text/plain": [
       "Generate report structure:   0%|          | 0/1 [00:00<?, ?it/s]"
      ]
     },
     "metadata": {},
     "output_type": "display_data"
    },
    {
     "data": {
      "application/vnd.jupyter.widget-view+json": {
       "model_id": "d28f75a2021b44ae8f67e3f6de456ddf",
       "version_major": 2,
       "version_minor": 0
      },
      "text/plain": [
       "Render HTML:   0%|          | 0/1 [00:00<?, ?it/s]"
      ]
     },
     "metadata": {},
     "output_type": "display_data"
    },
    {
     "data": {
      "application/vnd.jupyter.widget-view+json": {
       "model_id": "d27cea8ac7814196be702ce0631b727f",
       "version_major": 2,
       "version_minor": 0
      },
      "text/plain": [
       "Export report to file:   0%|          | 0/1 [00:00<?, ?it/s]"
      ]
     },
     "metadata": {},
     "output_type": "display_data"
    },
    {
     "name": "stderr",
     "output_type": "stream",
     "text": [
      "2024-07-12 17:31:00,166 - INFO - Reporte de EDA generado.\n",
      "2024-07-12 17:31:00,166 - INFO - Transformando tipos de columnas...\n",
      "2024-07-12 17:31:00,172 - INFO - Transformación de tipos de columnas completada.\n",
      "2024-07-12 17:31:00,173 - INFO - Training, testing and validation sets preparing!\n",
      "2024-07-12 17:31:00,179 - INFO - Training, testing and validation sets partition has finished!\n"
     ]
    },
    {
     "name": "stdout",
     "output_type": "stream",
     "text": [
      " 94%|█████████▍| 47/50 [04:26<00:17,  5.70s/trial, best loss: 33348.10532047822]"
     ]
    },
    {
     "name": "stderr",
     "output_type": "stream",
     "text": [
      "/home/mlops_zoomcamp/anaconda3/envs/mlops-final-project/lib/python3.9/site-packages/xgboost/sklearn.py:889: UserWarning: `early_stopping_rounds` in `fit` method is deprecated for better compatibility with scikit-learn, use `early_stopping_rounds` in constructor or`set_params` instead.\n",
      "  warnings.warn(\n",
      "\n",
      "2024-07-12 17:31:00,313 - INFO - build_posterior_wrapper took 0.003135 seconds\n",
      "2024-07-12 17:31:00,314 - INFO - TPE using 47/47 trials with best loss 33348.105320\n",
      "2024-07-12 17:31:00,351 - INFO - Leyendo archivo: historical_info_ISA_Interconnection_Electric.csv\n",
      "2024-07-12 17:31:00,352 - INFO - Iniciando el proceso de lectura de datos...\n",
      "2024-07-12 17:31:00,355 - INFO - Proceso de lectura de datos completado.\n",
      "2024-07-12 17:31:00,356 - INFO - Generando reporte de EDA...\n"
     ]
    },
    {
     "data": {
      "application/vnd.jupyter.widget-view+json": {
       "model_id": "38f527db511a4776ab899ec81cb8f3b2",
       "version_major": 2,
       "version_minor": 0
      },
      "text/plain": [
       "Summarize dataset:   0%|          | 0/5 [00:00<?, ?it/s]"
      ]
     },
     "metadata": {},
     "output_type": "display_data"
    },
    {
     "data": {
      "application/vnd.jupyter.widget-view+json": {
       "model_id": "5c713e084035487787526dcbe892aa88",
       "version_major": 2,
       "version_minor": 0
      },
      "text/plain": [
       "Generate report structure:   0%|          | 0/1 [00:00<?, ?it/s]"
      ]
     },
     "metadata": {},
     "output_type": "display_data"
    },
    {
     "data": {
      "application/vnd.jupyter.widget-view+json": {
       "model_id": "6801370105994528bf894c618b8bffa9",
       "version_major": 2,
       "version_minor": 0
      },
      "text/plain": [
       "Render HTML:   0%|          | 0/1 [00:00<?, ?it/s]"
      ]
     },
     "metadata": {},
     "output_type": "display_data"
    },
    {
     "data": {
      "application/vnd.jupyter.widget-view+json": {
       "model_id": "586368b59b8d4760b1288afe29fb0da6",
       "version_major": 2,
       "version_minor": 0
      },
      "text/plain": [
       "Export report to file:   0%|          | 0/1 [00:00<?, ?it/s]"
      ]
     },
     "metadata": {},
     "output_type": "display_data"
    },
    {
     "name": "stderr",
     "output_type": "stream",
     "text": [
      "2024-07-12 17:31:05,775 - INFO - Reporte de EDA generado.\n",
      "2024-07-12 17:31:05,776 - INFO - Transformando tipos de columnas...\n",
      "2024-07-12 17:31:05,782 - INFO - Transformación de tipos de columnas completada.\n",
      "2024-07-12 17:31:05,784 - INFO - Training, testing and validation sets preparing!\n",
      "2024-07-12 17:31:05,790 - INFO - Training, testing and validation sets partition has finished!\n"
     ]
    },
    {
     "name": "stdout",
     "output_type": "stream",
     "text": [
      " 96%|█████████▌| 48/50 [04:31<00:11,  5.65s/trial, best loss: 33348.10532047822]"
     ]
    },
    {
     "name": "stderr",
     "output_type": "stream",
     "text": [
      "/home/mlops_zoomcamp/anaconda3/envs/mlops-final-project/lib/python3.9/site-packages/xgboost/sklearn.py:889: UserWarning: `early_stopping_rounds` in `fit` method is deprecated for better compatibility with scikit-learn, use `early_stopping_rounds` in constructor or`set_params` instead.\n",
      "  warnings.warn(\n",
      "\n",
      "2024-07-12 17:31:05,861 - INFO - build_posterior_wrapper took 0.003968 seconds\n",
      "2024-07-12 17:31:05,862 - INFO - TPE using 48/48 trials with best loss 33348.105320\n",
      "2024-07-12 17:31:05,897 - INFO - Leyendo archivo: historical_info_ISA_Interconnection_Electric.csv\n",
      "2024-07-12 17:31:05,898 - INFO - Iniciando el proceso de lectura de datos...\n",
      "2024-07-12 17:31:05,901 - INFO - Proceso de lectura de datos completado.\n",
      "2024-07-12 17:31:05,902 - INFO - Generando reporte de EDA...\n"
     ]
    },
    {
     "data": {
      "application/vnd.jupyter.widget-view+json": {
       "model_id": "de6b4168c3024c049d03fae8a209b2e5",
       "version_major": 2,
       "version_minor": 0
      },
      "text/plain": [
       "Summarize dataset:   0%|          | 0/5 [00:00<?, ?it/s]"
      ]
     },
     "metadata": {},
     "output_type": "display_data"
    },
    {
     "data": {
      "application/vnd.jupyter.widget-view+json": {
       "model_id": "4aeccbbb0455417198afd2764c5204c7",
       "version_major": 2,
       "version_minor": 0
      },
      "text/plain": [
       "Generate report structure:   0%|          | 0/1 [00:00<?, ?it/s]"
      ]
     },
     "metadata": {},
     "output_type": "display_data"
    },
    {
     "data": {
      "application/vnd.jupyter.widget-view+json": {
       "model_id": "6d5f715447364b09a716bd2a1b675c13",
       "version_major": 2,
       "version_minor": 0
      },
      "text/plain": [
       "Render HTML:   0%|          | 0/1 [00:00<?, ?it/s]"
      ]
     },
     "metadata": {},
     "output_type": "display_data"
    },
    {
     "data": {
      "application/vnd.jupyter.widget-view+json": {
       "model_id": "7cdc5739910c4069a049c7efd7609792",
       "version_major": 2,
       "version_minor": 0
      },
      "text/plain": [
       "Export report to file:   0%|          | 0/1 [00:00<?, ?it/s]"
      ]
     },
     "metadata": {},
     "output_type": "display_data"
    },
    {
     "name": "stderr",
     "output_type": "stream",
     "text": [
      "2024-07-12 17:31:11,573 - INFO - Reporte de EDA generado.\n",
      "2024-07-12 17:31:11,574 - INFO - Transformando tipos de columnas...\n",
      "2024-07-12 17:31:11,580 - INFO - Transformación de tipos de columnas completada.\n",
      "2024-07-12 17:31:11,581 - INFO - Training, testing and validation sets preparing!\n",
      "2024-07-12 17:31:11,586 - INFO - Training, testing and validation sets partition has finished!\n"
     ]
    },
    {
     "name": "stdout",
     "output_type": "stream",
     "text": [
      " 98%|█████████▊| 49/50 [04:37<00:05,  5.70s/trial, best loss: 33348.10532047822]"
     ]
    },
    {
     "name": "stderr",
     "output_type": "stream",
     "text": [
      "/home/mlops_zoomcamp/anaconda3/envs/mlops-final-project/lib/python3.9/site-packages/xgboost/sklearn.py:889: UserWarning: `early_stopping_rounds` in `fit` method is deprecated for better compatibility with scikit-learn, use `early_stopping_rounds` in constructor or`set_params` instead.\n",
      "  warnings.warn(\n",
      "\n",
      "2024-07-12 17:31:11,659 - INFO - build_posterior_wrapper took 0.003108 seconds\n",
      "2024-07-12 17:31:11,660 - INFO - TPE using 49/49 trials with best loss 33348.105320\n",
      "2024-07-12 17:31:11,694 - INFO - Leyendo archivo: historical_info_ISA_Interconnection_Electric.csv\n",
      "2024-07-12 17:31:11,695 - INFO - Iniciando el proceso de lectura de datos...\n",
      "2024-07-12 17:31:11,698 - INFO - Proceso de lectura de datos completado.\n",
      "2024-07-12 17:31:11,699 - INFO - Generando reporte de EDA...\n"
     ]
    },
    {
     "data": {
      "application/vnd.jupyter.widget-view+json": {
       "model_id": "64e5d56db2d946b28451ea48d86c663e",
       "version_major": 2,
       "version_minor": 0
      },
      "text/plain": [
       "Summarize dataset:   0%|          | 0/5 [00:00<?, ?it/s]"
      ]
     },
     "metadata": {},
     "output_type": "display_data"
    },
    {
     "data": {
      "application/vnd.jupyter.widget-view+json": {
       "model_id": "58942a6d763645bca7353344fd37d33c",
       "version_major": 2,
       "version_minor": 0
      },
      "text/plain": [
       "Generate report structure:   0%|          | 0/1 [00:00<?, ?it/s]"
      ]
     },
     "metadata": {},
     "output_type": "display_data"
    },
    {
     "data": {
      "application/vnd.jupyter.widget-view+json": {
       "model_id": "37fbfdb4d06f412ca9f0248a655729ff",
       "version_major": 2,
       "version_minor": 0
      },
      "text/plain": [
       "Render HTML:   0%|          | 0/1 [00:00<?, ?it/s]"
      ]
     },
     "metadata": {},
     "output_type": "display_data"
    },
    {
     "data": {
      "application/vnd.jupyter.widget-view+json": {
       "model_id": "cc1d982b66ce4c2aa57dee9f86b6be74",
       "version_major": 2,
       "version_minor": 0
      },
      "text/plain": [
       "Export report to file:   0%|          | 0/1 [00:00<?, ?it/s]"
      ]
     },
     "metadata": {},
     "output_type": "display_data"
    },
    {
     "name": "stderr",
     "output_type": "stream",
     "text": [
      "2024-07-12 17:31:17,092 - INFO - Reporte de EDA generado.\n",
      "2024-07-12 17:31:17,092 - INFO - Transformando tipos de columnas...\n",
      "2024-07-12 17:31:17,098 - INFO - Transformación de tipos de columnas completada.\n",
      "2024-07-12 17:31:17,099 - INFO - Training, testing and validation sets preparing!\n",
      "2024-07-12 17:31:17,104 - INFO - Training, testing and validation sets partition has finished!\n"
     ]
    },
    {
     "name": "stdout",
     "output_type": "stream",
     "text": [
      "100%|██████████| 50/50 [04:42<00:00,  5.66s/trial, best loss: 33348.10532047822]\n",
      "Mejores hiperparámetros encontrados:\n",
      "{'colsample_bytree': 0.7558743865703369, 'learning_rate': 0.08841111842575317, 'max_depth': 0, 'n_estimators': 8, 'reg_alpha': 0.01337430813704964, 'reg_lambda': 0.6639866147828074, 'subsample': 0.7088992334528472}\n"
     ]
    },
    {
     "name": "stderr",
     "output_type": "stream",
     "text": [
      "/home/mlops_zoomcamp/anaconda3/envs/mlops-final-project/lib/python3.9/site-packages/xgboost/sklearn.py:889: UserWarning: `early_stopping_rounds` in `fit` method is deprecated for better compatibility with scikit-learn, use `early_stopping_rounds` in constructor or`set_params` instead.\n",
      "  warnings.warn(\n",
      "\n"
     ]
    }
   ],
   "source": [
    "main()"
   ]
  },
  {
   "cell_type": "code",
   "execution_count": 16,
   "id": "1acdc280",
   "metadata": {},
   "outputs": [],
   "source": [
    "# mlflow.end_run()"
   ]
  }
 ],
 "metadata": {
  "kernelspec": {
   "display_name": "Python 3 (ipykernel)",
   "language": "python",
   "name": "python3"
  },
  "language_info": {
   "codemirror_mode": {
    "name": "ipython",
    "version": 3
   },
   "file_extension": ".py",
   "mimetype": "text/x-python",
   "name": "python",
   "nbconvert_exporter": "python",
   "pygments_lexer": "ipython3",
   "version": "3.9.19"
  }
 },
 "nbformat": 4,
 "nbformat_minor": 5
}
