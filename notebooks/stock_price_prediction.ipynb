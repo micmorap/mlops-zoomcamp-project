{
 "cells": [
  {
   "cell_type": "code",
   "execution_count": 1,
   "id": "265dbcef-008b-4d70-9427-0dbce89632d1",
   "metadata": {},
   "outputs": [
    {
     "name": "stdout",
     "output_type": "stream",
     "text": [
      "Python 3.9.12\r\n"
     ]
    }
   ],
   "source": [
    "!python -V"
   ]
  },
  {
   "cell_type": "code",
   "execution_count": 2,
   "id": "65695773-d1fb-4f94-8237-7cbe5c1e2c40",
   "metadata": {},
   "outputs": [
    {
     "name": "stderr",
     "output_type": "stream",
     "text": [
      "/home/mlops_zoomcamp/anaconda3/lib/python3.9/site-packages/pandas/core/computation/expressions.py:21: UserWarning: Pandas requires version '2.8.4' or newer of 'numexpr' (version '2.8.1' currently installed).\n",
      "  from pandas.core.computation.check import NUMEXPR_INSTALLED\n",
      "/home/mlops_zoomcamp/anaconda3/lib/python3.9/site-packages/pandas/core/arrays/masked.py:60: UserWarning: Pandas requires version '1.3.6' or newer of 'bottleneck' (version '1.3.4' currently installed).\n",
      "  from pandas.core import (\n"
     ]
    }
   ],
   "source": [
    "import os\n",
    "import pandas as pd\n",
    "# from ydata_profiling import ProfileReport"
   ]
  },
  {
   "cell_type": "code",
   "execution_count": null,
   "id": "89fa1948-014f-40a4-a810-0bc88867fe04",
   "metadata": {},
   "outputs": [],
   "source": []
  },
  {
   "cell_type": "code",
   "execution_count": 3,
   "id": "e7ea7bdb-4c33-4d10-8ccf-3187e62af08c",
   "metadata": {},
   "outputs": [],
   "source": [
    "DATA_COMPANY = \"historical_info_ISA_Interconnection_Electric.csv\"\n",
    "DATA_FOLDER = \"../data/\"\n",
    "FINAL_FILES_PATH = os.path.join(DATA_FOLDER, DATA_COMPANY)"
   ]
  },
  {
   "cell_type": "code",
   "execution_count": 22,
   "id": "46cf2905-c27f-427b-aa55-7d3a5aec2712",
   "metadata": {},
   "outputs": [],
   "source": [
    "def read_data_stock(name_file: str):\n",
    "    primary_dataset = pd.read_csv(name_file)\n",
    "    return primary_dataset"
   ]
  },
  {
   "cell_type": "code",
   "execution_count": 5,
   "id": "e69ad694-379b-4e9d-bf44-f844215affa2",
   "metadata": {},
   "outputs": [],
   "source": [
    "def profiling_eda_report(dataset: pd.DataFrame):\n",
    "    report = dataset.profile_report(sort='ascending', html={'style':{'full_width':True}})\n",
    "    return report"
   ]
  },
  {
   "cell_type": "code",
   "execution_count": 23,
   "id": "61b15938-d4d0-46c4-a797-0acd79a69a1a",
   "metadata": {},
   "outputs": [],
   "source": [
    "def transform_type_columns(dataset: pd.DataFrame):\n",
    "    \"\"\"\n",
    "    \"\"\"\n",
    "    date_columns = 'Fecha'\n",
    "    price_columns = ['Último', 'Apertura', 'Máximo', 'Mínimo']\n",
    "    volume_column = 'Vol.'\n",
    "    variation_column = '% var.'\n",
    "\n",
    "    dataset[date_columns] = dataset[date_columns].str.replace(\".\", \"-\", regex=False)    \n",
    "\n",
    "    for e in price_columns:\n",
    "        dataset[e] = dataset[e].str.replace(\".\", \"\").str.replace(\",\", \".\").astype(float)\n",
    "\n",
    "\n",
    "    dataset[volume_column] = dataset[volume_column].str.replace(\",\", \".\")\n",
    "    dataset[volume_column] = dataset[volume_column].apply(lambda x: float(x.replace('K', '')) * 1000 if 'K' in x\n",
    "                                                          else float(x.replace('M', '')) * 1000000 if 'M' in x\n",
    "                                                          else float(x)\n",
    "                                                         )\n",
    "\n",
    "    dataset[variation_column] = dataset[variation_column].astype(str).str.replace('%', '').str.replace(',', '.').astype(float) / 100    \n",
    "    \n",
    "\n",
    "    return dataset\n",
    "        "
   ]
  },
  {
   "cell_type": "code",
   "execution_count": 24,
   "id": "3f0300cc-d2f0-4343-ac08-d441adae7e2c",
   "metadata": {},
   "outputs": [
    {
     "data": {
      "text/html": [
       "<div>\n",
       "<style scoped>\n",
       "    .dataframe tbody tr th:only-of-type {\n",
       "        vertical-align: middle;\n",
       "    }\n",
       "\n",
       "    .dataframe tbody tr th {\n",
       "        vertical-align: top;\n",
       "    }\n",
       "\n",
       "    .dataframe thead th {\n",
       "        text-align: right;\n",
       "    }\n",
       "</style>\n",
       "<table border=\"1\" class=\"dataframe\">\n",
       "  <thead>\n",
       "    <tr style=\"text-align: right;\">\n",
       "      <th></th>\n",
       "      <th>Fecha</th>\n",
       "      <th>Último</th>\n",
       "      <th>Apertura</th>\n",
       "      <th>Máximo</th>\n",
       "      <th>Mínimo</th>\n",
       "      <th>Vol.</th>\n",
       "      <th>% var.</th>\n",
       "    </tr>\n",
       "  </thead>\n",
       "  <tbody>\n",
       "    <tr>\n",
       "      <th>0</th>\n",
       "      <td>08.07.2024</td>\n",
       "      <td>18.400,0</td>\n",
       "      <td>18.300,0</td>\n",
       "      <td>18.400,0</td>\n",
       "      <td>18.300,0</td>\n",
       "      <td>199,41K</td>\n",
       "      <td>0,44%</td>\n",
       "    </tr>\n",
       "    <tr>\n",
       "      <th>1</th>\n",
       "      <td>05.07.2024</td>\n",
       "      <td>18.320,0</td>\n",
       "      <td>18.320,0</td>\n",
       "      <td>18.360,0</td>\n",
       "      <td>18.240,0</td>\n",
       "      <td>278,23K</td>\n",
       "      <td>-0,33%</td>\n",
       "    </tr>\n",
       "  </tbody>\n",
       "</table>\n",
       "</div>"
      ],
      "text/plain": [
       "        Fecha    Último  Apertura    Máximo    Mínimo     Vol.  % var.\n",
       "0  08.07.2024  18.400,0  18.300,0  18.400,0  18.300,0  199,41K   0,44%\n",
       "1  05.07.2024  18.320,0  18.320,0  18.360,0  18.240,0  278,23K  -0,33%"
      ]
     },
     "execution_count": 24,
     "metadata": {},
     "output_type": "execute_result"
    }
   ],
   "source": [
    "initial_info = read_data_stock(FINAL_FILES_PATH)\n",
    "initial_info.head(2)"
   ]
  },
  {
   "cell_type": "code",
   "execution_count": 25,
   "id": "5fea91b0-0179-4f75-ac21-3f0df72c1dc3",
   "metadata": {},
   "outputs": [
    {
     "name": "stdout",
     "output_type": "stream",
     "text": [
      "<class 'pandas.core.frame.DataFrame'>\n",
      "RangeIndex: 485 entries, 0 to 484\n",
      "Data columns (total 7 columns):\n",
      " #   Column    Non-Null Count  Dtype \n",
      "---  ------    --------------  ----- \n",
      " 0   Fecha     485 non-null    object\n",
      " 1   Último    485 non-null    object\n",
      " 2   Apertura  485 non-null    object\n",
      " 3   Máximo    485 non-null    object\n",
      " 4   Mínimo    485 non-null    object\n",
      " 5   Vol.      485 non-null    object\n",
      " 6   % var.    485 non-null    object\n",
      "dtypes: object(7)\n",
      "memory usage: 26.6+ KB\n"
     ]
    }
   ],
   "source": [
    "initial_info.info()"
   ]
  },
  {
   "cell_type": "code",
   "execution_count": 26,
   "id": "a747d38e-040d-4fa1-8c81-53072bab5e77",
   "metadata": {
    "scrolled": true
   },
   "outputs": [],
   "source": [
    "# profiling_eda_report(initial_info)"
   ]
  },
  {
   "cell_type": "code",
   "execution_count": 27,
   "id": "e67de770-e442-4533-a69b-c6c505f9c344",
   "metadata": {},
   "outputs": [
    {
     "data": {
      "text/html": [
       "<div>\n",
       "<style scoped>\n",
       "    .dataframe tbody tr th:only-of-type {\n",
       "        vertical-align: middle;\n",
       "    }\n",
       "\n",
       "    .dataframe tbody tr th {\n",
       "        vertical-align: top;\n",
       "    }\n",
       "\n",
       "    .dataframe thead th {\n",
       "        text-align: right;\n",
       "    }\n",
       "</style>\n",
       "<table border=\"1\" class=\"dataframe\">\n",
       "  <thead>\n",
       "    <tr style=\"text-align: right;\">\n",
       "      <th></th>\n",
       "      <th>Fecha</th>\n",
       "      <th>Último</th>\n",
       "      <th>Apertura</th>\n",
       "      <th>Máximo</th>\n",
       "      <th>Mínimo</th>\n",
       "      <th>Vol.</th>\n",
       "      <th>% var.</th>\n",
       "    </tr>\n",
       "  </thead>\n",
       "  <tbody>\n",
       "    <tr>\n",
       "      <th>0</th>\n",
       "      <td>08-07-2024</td>\n",
       "      <td>18400.0</td>\n",
       "      <td>18300.0</td>\n",
       "      <td>18400.0</td>\n",
       "      <td>18300.0</td>\n",
       "      <td>199410.0</td>\n",
       "      <td>0.0044</td>\n",
       "    </tr>\n",
       "    <tr>\n",
       "      <th>1</th>\n",
       "      <td>05-07-2024</td>\n",
       "      <td>18320.0</td>\n",
       "      <td>18320.0</td>\n",
       "      <td>18360.0</td>\n",
       "      <td>18240.0</td>\n",
       "      <td>278230.0</td>\n",
       "      <td>-0.0033</td>\n",
       "    </tr>\n",
       "    <tr>\n",
       "      <th>2</th>\n",
       "      <td>04-07-2024</td>\n",
       "      <td>18380.0</td>\n",
       "      <td>18360.0</td>\n",
       "      <td>18480.0</td>\n",
       "      <td>18300.0</td>\n",
       "      <td>75730.0</td>\n",
       "      <td>0.0044</td>\n",
       "    </tr>\n",
       "    <tr>\n",
       "      <th>3</th>\n",
       "      <td>03-07-2024</td>\n",
       "      <td>18300.0</td>\n",
       "      <td>18320.0</td>\n",
       "      <td>18480.0</td>\n",
       "      <td>18260.0</td>\n",
       "      <td>140770.0</td>\n",
       "      <td>0.0055</td>\n",
       "    </tr>\n",
       "    <tr>\n",
       "      <th>4</th>\n",
       "      <td>02-07-2024</td>\n",
       "      <td>18200.0</td>\n",
       "      <td>18240.0</td>\n",
       "      <td>18400.0</td>\n",
       "      <td>18200.0</td>\n",
       "      <td>369710.0</td>\n",
       "      <td>0.0000</td>\n",
       "    </tr>\n",
       "    <tr>\n",
       "      <th>...</th>\n",
       "      <td>...</td>\n",
       "      <td>...</td>\n",
       "      <td>...</td>\n",
       "      <td>...</td>\n",
       "      <td>...</td>\n",
       "      <td>...</td>\n",
       "      <td>...</td>\n",
       "    </tr>\n",
       "    <tr>\n",
       "      <th>480</th>\n",
       "      <td>15-07-2022</td>\n",
       "      <td>21490.0</td>\n",
       "      <td>21000.0</td>\n",
       "      <td>21490.0</td>\n",
       "      <td>19600.0</td>\n",
       "      <td>119400.0</td>\n",
       "      <td>0.0137</td>\n",
       "    </tr>\n",
       "    <tr>\n",
       "      <th>481</th>\n",
       "      <td>14-07-2022</td>\n",
       "      <td>21200.0</td>\n",
       "      <td>21500.0</td>\n",
       "      <td>21500.0</td>\n",
       "      <td>21000.0</td>\n",
       "      <td>526640.0</td>\n",
       "      <td>-0.0140</td>\n",
       "    </tr>\n",
       "    <tr>\n",
       "      <th>482</th>\n",
       "      <td>13-07-2022</td>\n",
       "      <td>21500.0</td>\n",
       "      <td>21600.0</td>\n",
       "      <td>21600.0</td>\n",
       "      <td>21200.0</td>\n",
       "      <td>134880.0</td>\n",
       "      <td>0.0000</td>\n",
       "    </tr>\n",
       "    <tr>\n",
       "      <th>483</th>\n",
       "      <td>12-07-2022</td>\n",
       "      <td>21500.0</td>\n",
       "      <td>21300.0</td>\n",
       "      <td>21600.0</td>\n",
       "      <td>21260.0</td>\n",
       "      <td>131430.0</td>\n",
       "      <td>0.0094</td>\n",
       "    </tr>\n",
       "    <tr>\n",
       "      <th>484</th>\n",
       "      <td>11-07-2022</td>\n",
       "      <td>21300.0</td>\n",
       "      <td>21620.0</td>\n",
       "      <td>21620.0</td>\n",
       "      <td>21300.0</td>\n",
       "      <td>401920.0</td>\n",
       "      <td>-0.0397</td>\n",
       "    </tr>\n",
       "  </tbody>\n",
       "</table>\n",
       "<p>485 rows × 7 columns</p>\n",
       "</div>"
      ],
      "text/plain": [
       "          Fecha   Último  Apertura   Máximo   Mínimo      Vol.  % var.\n",
       "0    08-07-2024  18400.0   18300.0  18400.0  18300.0  199410.0  0.0044\n",
       "1    05-07-2024  18320.0   18320.0  18360.0  18240.0  278230.0 -0.0033\n",
       "2    04-07-2024  18380.0   18360.0  18480.0  18300.0   75730.0  0.0044\n",
       "3    03-07-2024  18300.0   18320.0  18480.0  18260.0  140770.0  0.0055\n",
       "4    02-07-2024  18200.0   18240.0  18400.0  18200.0  369710.0  0.0000\n",
       "..          ...      ...       ...      ...      ...       ...     ...\n",
       "480  15-07-2022  21490.0   21000.0  21490.0  19600.0  119400.0  0.0137\n",
       "481  14-07-2022  21200.0   21500.0  21500.0  21000.0  526640.0 -0.0140\n",
       "482  13-07-2022  21500.0   21600.0  21600.0  21200.0  134880.0  0.0000\n",
       "483  12-07-2022  21500.0   21300.0  21600.0  21260.0  131430.0  0.0094\n",
       "484  11-07-2022  21300.0   21620.0  21620.0  21300.0  401920.0 -0.0397\n",
       "\n",
       "[485 rows x 7 columns]"
      ]
     },
     "execution_count": 27,
     "metadata": {},
     "output_type": "execute_result"
    }
   ],
   "source": [
    "dataset_types = transform_type_columns(initial_info)\n",
    "dataset_types  "
   ]
  },
  {
   "cell_type": "code",
   "execution_count": 28,
   "id": "3083aeae-f74f-4a98-9203-d84a3fb3d455",
   "metadata": {},
   "outputs": [
    {
     "name": "stdout",
     "output_type": "stream",
     "text": [
      "<class 'pandas.core.frame.DataFrame'>\n",
      "RangeIndex: 485 entries, 0 to 484\n",
      "Data columns (total 7 columns):\n",
      " #   Column    Non-Null Count  Dtype  \n",
      "---  ------    --------------  -----  \n",
      " 0   Fecha     485 non-null    object \n",
      " 1   Último    485 non-null    float64\n",
      " 2   Apertura  485 non-null    float64\n",
      " 3   Máximo    485 non-null    float64\n",
      " 4   Mínimo    485 non-null    float64\n",
      " 5   Vol.      485 non-null    float64\n",
      " 6   % var.    485 non-null    float64\n",
      "dtypes: float64(6), object(1)\n",
      "memory usage: 26.6+ KB\n"
     ]
    }
   ],
   "source": [
    "dataset_types.info()"
   ]
  },
  {
   "cell_type": "code",
   "execution_count": null,
   "id": "6fb3d320-e89f-475a-b81c-0a585219ef4e",
   "metadata": {},
   "outputs": [],
   "source": []
  }
 ],
 "metadata": {
  "kernelspec": {
   "display_name": "Python 3 (ipykernel)",
   "language": "python",
   "name": "python3"
  },
  "language_info": {
   "codemirror_mode": {
    "name": "ipython",
    "version": 3
   },
   "file_extension": ".py",
   "mimetype": "text/x-python",
   "name": "python",
   "nbconvert_exporter": "python",
   "pygments_lexer": "ipython3",
   "version": "3.9.12"
  }
 },
 "nbformat": 4,
 "nbformat_minor": 5
}
